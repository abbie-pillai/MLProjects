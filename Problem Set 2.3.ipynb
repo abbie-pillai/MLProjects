{
 "cells": [
  {
   "cell_type": "code",
   "execution_count": 43,
   "id": "dcf830f7",
   "metadata": {},
   "outputs": [],
   "source": [
    "import numpy as np\n",
    "import pandas as pd\n",
    "import matplotlib.pyplot as plt\n",
    "import seaborn as sns\n",
    "from sklearn import datasets\n",
    "import statsmodels.api as sm\n",
    "from sklearn.linear_model import LinearRegression\n",
    "from sklearn.preprocessing import StandardScaler\n",
    "from sklearn.model_selection import train_test_split\n",
    "from sklearn.metrics import mean_squared_error, r2_score\n",
    "from sklearn.neighbors import KNeighborsRegressor\n",
    "from sklearn import linear_model\n",
    "from sklearn.linear_model import Ridge\n",
    "from sklearn.preprocessing import scale \n",
    "from sklearn.model_selection import RepeatedKFold\n",
    "from sklearn.decomposition import PCA\n",
    "from sklearn.preprocessing import scale \n",
    "from sklearn import model_selection\n",
    "import statsmodels.formula.api as smf\n",
    "from sklearn.feature_selection import RFE\n",
    "\n",
    "#Importing necessary libraries"
   ]
  },
  {
   "cell_type": "code",
   "execution_count": 12,
   "id": "c33509e6",
   "metadata": {},
   "outputs": [],
   "source": [
    "df=pd.read_csv(\"D:/Data/Spring23/AppliedML-JP/401K.csv\")"
   ]
  },
  {
   "cell_type": "code",
   "execution_count": 13,
   "id": "b998ddfd",
   "metadata": {},
   "outputs": [
    {
     "data": {
      "text/html": [
       "<div>\n",
       "<style scoped>\n",
       "    .dataframe tbody tr th:only-of-type {\n",
       "        vertical-align: middle;\n",
       "    }\n",
       "\n",
       "    .dataframe tbody tr th {\n",
       "        vertical-align: top;\n",
       "    }\n",
       "\n",
       "    .dataframe thead th {\n",
       "        text-align: right;\n",
       "    }\n",
       "</style>\n",
       "<table border=\"1\" class=\"dataframe\">\n",
       "  <thead>\n",
       "    <tr style=\"text-align: right;\">\n",
       "      <th></th>\n",
       "      <th>prate</th>\n",
       "      <th>mrate</th>\n",
       "      <th>totpart</th>\n",
       "      <th>totelg</th>\n",
       "      <th>age</th>\n",
       "      <th>totemp</th>\n",
       "      <th>sole</th>\n",
       "      <th>ltotemp</th>\n",
       "    </tr>\n",
       "  </thead>\n",
       "  <tbody>\n",
       "    <tr>\n",
       "      <th>0</th>\n",
       "      <td>26.1</td>\n",
       "      <td>0.21</td>\n",
       "      <td>1653</td>\n",
       "      <td>6322</td>\n",
       "      <td>8</td>\n",
       "      <td>8709.0</td>\n",
       "      <td>0</td>\n",
       "      <td>9.072112</td>\n",
       "    </tr>\n",
       "    <tr>\n",
       "      <th>1</th>\n",
       "      <td>100.0</td>\n",
       "      <td>1.42</td>\n",
       "      <td>262</td>\n",
       "      <td>262</td>\n",
       "      <td>6</td>\n",
       "      <td>315.0</td>\n",
       "      <td>1</td>\n",
       "      <td>5.752573</td>\n",
       "    </tr>\n",
       "    <tr>\n",
       "      <th>2</th>\n",
       "      <td>97.6</td>\n",
       "      <td>0.91</td>\n",
       "      <td>166</td>\n",
       "      <td>170</td>\n",
       "      <td>10</td>\n",
       "      <td>275.0</td>\n",
       "      <td>1</td>\n",
       "      <td>5.616771</td>\n",
       "    </tr>\n",
       "    <tr>\n",
       "      <th>3</th>\n",
       "      <td>100.0</td>\n",
       "      <td>0.42</td>\n",
       "      <td>257</td>\n",
       "      <td>257</td>\n",
       "      <td>7</td>\n",
       "      <td>500.0</td>\n",
       "      <td>0</td>\n",
       "      <td>6.214608</td>\n",
       "    </tr>\n",
       "    <tr>\n",
       "      <th>4</th>\n",
       "      <td>82.5</td>\n",
       "      <td>0.53</td>\n",
       "      <td>591</td>\n",
       "      <td>716</td>\n",
       "      <td>28</td>\n",
       "      <td>933.0</td>\n",
       "      <td>1</td>\n",
       "      <td>6.838405</td>\n",
       "    </tr>\n",
       "  </tbody>\n",
       "</table>\n",
       "</div>"
      ],
      "text/plain": [
       "   prate  mrate  totpart  totelg  age  totemp  sole   ltotemp\n",
       "0   26.1   0.21     1653    6322    8  8709.0     0  9.072112\n",
       "1  100.0   1.42      262     262    6   315.0     1  5.752573\n",
       "2   97.6   0.91      166     170   10   275.0     1  5.616771\n",
       "3  100.0   0.42      257     257    7   500.0     0  6.214608\n",
       "4   82.5   0.53      591     716   28   933.0     1  6.838405"
      ]
     },
     "execution_count": 13,
     "metadata": {},
     "output_type": "execute_result"
    }
   ],
   "source": [
    "df.head()"
   ]
  },
  {
   "cell_type": "code",
   "execution_count": 14,
   "id": "a31b85da",
   "metadata": {},
   "outputs": [
    {
     "name": "stdout",
     "output_type": "stream",
     "text": [
      "<class 'pandas.core.frame.DataFrame'>\n",
      "RangeIndex: 1534 entries, 0 to 1533\n",
      "Data columns (total 8 columns):\n",
      " #   Column   Non-Null Count  Dtype  \n",
      "---  ------   --------------  -----  \n",
      " 0   prate    1534 non-null   float64\n",
      " 1   mrate    1534 non-null   float64\n",
      " 2   totpart  1534 non-null   int64  \n",
      " 3   totelg   1534 non-null   int64  \n",
      " 4   age      1534 non-null   int64  \n",
      " 5   totemp   1534 non-null   float64\n",
      " 6   sole     1534 non-null   int64  \n",
      " 7   ltotemp  1534 non-null   float64\n",
      "dtypes: float64(4), int64(4)\n",
      "memory usage: 96.0 KB\n"
     ]
    }
   ],
   "source": [
    "df.info()"
   ]
  },
  {
   "cell_type": "code",
   "execution_count": 15,
   "id": "5ce7c149",
   "metadata": {},
   "outputs": [
    {
     "data": {
      "text/plain": [
       "prate      0\n",
       "mrate      0\n",
       "totpart    0\n",
       "totelg     0\n",
       "age        0\n",
       "totemp     0\n",
       "sole       0\n",
       "ltotemp    0\n",
       "dtype: int64"
      ]
     },
     "execution_count": 15,
     "metadata": {},
     "output_type": "execute_result"
    }
   ],
   "source": [
    "df.isna().sum()"
   ]
  },
  {
   "cell_type": "markdown",
   "id": "7072f0eb",
   "metadata": {},
   "source": [
    "There are no null values in the dataset and there are no categorical columns in the dataset"
   ]
  },
  {
   "cell_type": "code",
   "execution_count": 16,
   "id": "6618e079",
   "metadata": {},
   "outputs": [
    {
     "data": {
      "text/html": [
       "<div>\n",
       "<style scoped>\n",
       "    .dataframe tbody tr th:only-of-type {\n",
       "        vertical-align: middle;\n",
       "    }\n",
       "\n",
       "    .dataframe tbody tr th {\n",
       "        vertical-align: top;\n",
       "    }\n",
       "\n",
       "    .dataframe thead th {\n",
       "        text-align: right;\n",
       "    }\n",
       "</style>\n",
       "<table border=\"1\" class=\"dataframe\">\n",
       "  <thead>\n",
       "    <tr style=\"text-align: right;\">\n",
       "      <th></th>\n",
       "      <th>count</th>\n",
       "      <th>mean</th>\n",
       "      <th>std</th>\n",
       "      <th>min</th>\n",
       "      <th>25%</th>\n",
       "      <th>50%</th>\n",
       "      <th>75%</th>\n",
       "      <th>max</th>\n",
       "    </tr>\n",
       "  </thead>\n",
       "  <tbody>\n",
       "    <tr>\n",
       "      <th>prate</th>\n",
       "      <td>1534.0</td>\n",
       "      <td>87.362907</td>\n",
       "      <td>16.716537</td>\n",
       "      <td>3.000000</td>\n",
       "      <td>78.02500</td>\n",
       "      <td>95.700000</td>\n",
       "      <td>100.000000</td>\n",
       "      <td>100.00000</td>\n",
       "    </tr>\n",
       "    <tr>\n",
       "      <th>mrate</th>\n",
       "      <td>1534.0</td>\n",
       "      <td>0.731512</td>\n",
       "      <td>0.779539</td>\n",
       "      <td>0.010000</td>\n",
       "      <td>0.30000</td>\n",
       "      <td>0.460000</td>\n",
       "      <td>0.830000</td>\n",
       "      <td>4.91000</td>\n",
       "    </tr>\n",
       "    <tr>\n",
       "      <th>totpart</th>\n",
       "      <td>1534.0</td>\n",
       "      <td>1354.230769</td>\n",
       "      <td>4629.264665</td>\n",
       "      <td>50.000000</td>\n",
       "      <td>156.25000</td>\n",
       "      <td>276.000000</td>\n",
       "      <td>749.500000</td>\n",
       "      <td>58811.00000</td>\n",
       "    </tr>\n",
       "    <tr>\n",
       "      <th>totelg</th>\n",
       "      <td>1534.0</td>\n",
       "      <td>1628.534550</td>\n",
       "      <td>5370.719356</td>\n",
       "      <td>51.000000</td>\n",
       "      <td>176.00000</td>\n",
       "      <td>330.000000</td>\n",
       "      <td>890.500000</td>\n",
       "      <td>70429.00000</td>\n",
       "    </tr>\n",
       "    <tr>\n",
       "      <th>age</th>\n",
       "      <td>1534.0</td>\n",
       "      <td>13.181226</td>\n",
       "      <td>9.171114</td>\n",
       "      <td>4.000000</td>\n",
       "      <td>7.00000</td>\n",
       "      <td>9.000000</td>\n",
       "      <td>18.000000</td>\n",
       "      <td>51.00000</td>\n",
       "    </tr>\n",
       "    <tr>\n",
       "      <th>totemp</th>\n",
       "      <td>1534.0</td>\n",
       "      <td>3567.321382</td>\n",
       "      <td>11199.875376</td>\n",
       "      <td>58.000000</td>\n",
       "      <td>261.00000</td>\n",
       "      <td>588.000000</td>\n",
       "      <td>1804.000000</td>\n",
       "      <td>140000.00000</td>\n",
       "    </tr>\n",
       "    <tr>\n",
       "      <th>sole</th>\n",
       "      <td>1534.0</td>\n",
       "      <td>0.487614</td>\n",
       "      <td>0.500010</td>\n",
       "      <td>0.000000</td>\n",
       "      <td>0.00000</td>\n",
       "      <td>0.000000</td>\n",
       "      <td>1.000000</td>\n",
       "      <td>1.00000</td>\n",
       "    </tr>\n",
       "    <tr>\n",
       "      <th>ltotemp</th>\n",
       "      <td>1534.0</td>\n",
       "      <td>6.686034</td>\n",
       "      <td>1.453375</td>\n",
       "      <td>4.060443</td>\n",
       "      <td>5.56452</td>\n",
       "      <td>6.376726</td>\n",
       "      <td>7.497762</td>\n",
       "      <td>11.88025</td>\n",
       "    </tr>\n",
       "  </tbody>\n",
       "</table>\n",
       "</div>"
      ],
      "text/plain": [
       "          count         mean           std        min        25%         50%  \\\n",
       "prate    1534.0    87.362907     16.716537   3.000000   78.02500   95.700000   \n",
       "mrate    1534.0     0.731512      0.779539   0.010000    0.30000    0.460000   \n",
       "totpart  1534.0  1354.230769   4629.264665  50.000000  156.25000  276.000000   \n",
       "totelg   1534.0  1628.534550   5370.719356  51.000000  176.00000  330.000000   \n",
       "age      1534.0    13.181226      9.171114   4.000000    7.00000    9.000000   \n",
       "totemp   1534.0  3567.321382  11199.875376  58.000000  261.00000  588.000000   \n",
       "sole     1534.0     0.487614      0.500010   0.000000    0.00000    0.000000   \n",
       "ltotemp  1534.0     6.686034      1.453375   4.060443    5.56452    6.376726   \n",
       "\n",
       "                 75%           max  \n",
       "prate     100.000000     100.00000  \n",
       "mrate       0.830000       4.91000  \n",
       "totpart   749.500000   58811.00000  \n",
       "totelg    890.500000   70429.00000  \n",
       "age        18.000000      51.00000  \n",
       "totemp   1804.000000  140000.00000  \n",
       "sole        1.000000       1.00000  \n",
       "ltotemp     7.497762      11.88025  "
      ]
     },
     "execution_count": 16,
     "metadata": {},
     "output_type": "execute_result"
    }
   ],
   "source": [
    "df.describe().T"
   ]
  },
  {
   "cell_type": "code",
   "execution_count": 17,
   "id": "94fa0ecd",
   "metadata": {},
   "outputs": [
    {
     "data": {
      "text/html": [
       "<div>\n",
       "<style scoped>\n",
       "    .dataframe tbody tr th:only-of-type {\n",
       "        vertical-align: middle;\n",
       "    }\n",
       "\n",
       "    .dataframe tbody tr th {\n",
       "        vertical-align: top;\n",
       "    }\n",
       "\n",
       "    .dataframe thead th {\n",
       "        text-align: right;\n",
       "    }\n",
       "</style>\n",
       "<table border=\"1\" class=\"dataframe\">\n",
       "  <thead>\n",
       "    <tr style=\"text-align: right;\">\n",
       "      <th></th>\n",
       "      <th>prate</th>\n",
       "      <th>mrate</th>\n",
       "      <th>totpart</th>\n",
       "      <th>totelg</th>\n",
       "      <th>age</th>\n",
       "      <th>totemp</th>\n",
       "      <th>sole</th>\n",
       "      <th>ltotemp</th>\n",
       "    </tr>\n",
       "  </thead>\n",
       "  <tbody>\n",
       "    <tr>\n",
       "      <th>767</th>\n",
       "      <td>100.0</td>\n",
       "      <td>0.12</td>\n",
       "      <td>404</td>\n",
       "      <td>404</td>\n",
       "      <td>7</td>\n",
       "      <td>664.0</td>\n",
       "      <td>0</td>\n",
       "      <td>6.498282</td>\n",
       "    </tr>\n",
       "    <tr>\n",
       "      <th>888</th>\n",
       "      <td>100.0</td>\n",
       "      <td>0.32</td>\n",
       "      <td>408</td>\n",
       "      <td>408</td>\n",
       "      <td>8</td>\n",
       "      <td>548.0</td>\n",
       "      <td>0</td>\n",
       "      <td>6.306275</td>\n",
       "    </tr>\n",
       "    <tr>\n",
       "      <th>861</th>\n",
       "      <td>100.0</td>\n",
       "      <td>1.94</td>\n",
       "      <td>193</td>\n",
       "      <td>193</td>\n",
       "      <td>25</td>\n",
       "      <td>193.0</td>\n",
       "      <td>1</td>\n",
       "      <td>5.262690</td>\n",
       "    </tr>\n",
       "    <tr>\n",
       "      <th>866</th>\n",
       "      <td>100.0</td>\n",
       "      <td>3.74</td>\n",
       "      <td>340</td>\n",
       "      <td>340</td>\n",
       "      <td>7</td>\n",
       "      <td>1750.0</td>\n",
       "      <td>1</td>\n",
       "      <td>7.467371</td>\n",
       "    </tr>\n",
       "    <tr>\n",
       "      <th>868</th>\n",
       "      <td>100.0</td>\n",
       "      <td>2.00</td>\n",
       "      <td>188</td>\n",
       "      <td>188</td>\n",
       "      <td>13</td>\n",
       "      <td>195.0</td>\n",
       "      <td>1</td>\n",
       "      <td>5.273000</td>\n",
       "    </tr>\n",
       "    <tr>\n",
       "      <th>...</th>\n",
       "      <td>...</td>\n",
       "      <td>...</td>\n",
       "      <td>...</td>\n",
       "      <td>...</td>\n",
       "      <td>...</td>\n",
       "      <td>...</td>\n",
       "      <td>...</td>\n",
       "      <td>...</td>\n",
       "    </tr>\n",
       "    <tr>\n",
       "      <th>526</th>\n",
       "      <td>19.3</td>\n",
       "      <td>0.54</td>\n",
       "      <td>51</td>\n",
       "      <td>264</td>\n",
       "      <td>25</td>\n",
       "      <td>290.0</td>\n",
       "      <td>0</td>\n",
       "      <td>5.669881</td>\n",
       "    </tr>\n",
       "    <tr>\n",
       "      <th>1450</th>\n",
       "      <td>17.4</td>\n",
       "      <td>0.29</td>\n",
       "      <td>265</td>\n",
       "      <td>1524</td>\n",
       "      <td>5</td>\n",
       "      <td>1549.0</td>\n",
       "      <td>0</td>\n",
       "      <td>7.345365</td>\n",
       "    </tr>\n",
       "    <tr>\n",
       "      <th>1271</th>\n",
       "      <td>14.9</td>\n",
       "      <td>0.22</td>\n",
       "      <td>1011</td>\n",
       "      <td>6801</td>\n",
       "      <td>7</td>\n",
       "      <td>9188.0</td>\n",
       "      <td>1</td>\n",
       "      <td>9.125653</td>\n",
       "    </tr>\n",
       "    <tr>\n",
       "      <th>938</th>\n",
       "      <td>8.8</td>\n",
       "      <td>0.50</td>\n",
       "      <td>142</td>\n",
       "      <td>1605</td>\n",
       "      <td>14</td>\n",
       "      <td>2215.0</td>\n",
       "      <td>0</td>\n",
       "      <td>7.703008</td>\n",
       "    </tr>\n",
       "    <tr>\n",
       "      <th>1254</th>\n",
       "      <td>3.0</td>\n",
       "      <td>0.38</td>\n",
       "      <td>1049</td>\n",
       "      <td>34547</td>\n",
       "      <td>8</td>\n",
       "      <td>88975.0</td>\n",
       "      <td>0</td>\n",
       "      <td>11.396110</td>\n",
       "    </tr>\n",
       "  </tbody>\n",
       "</table>\n",
       "<p>1534 rows × 8 columns</p>\n",
       "</div>"
      ],
      "text/plain": [
       "      prate  mrate  totpart  totelg  age   totemp  sole    ltotemp\n",
       "767   100.0   0.12      404     404    7    664.0     0   6.498282\n",
       "888   100.0   0.32      408     408    8    548.0     0   6.306275\n",
       "861   100.0   1.94      193     193   25    193.0     1   5.262690\n",
       "866   100.0   3.74      340     340    7   1750.0     1   7.467371\n",
       "868   100.0   2.00      188     188   13    195.0     1   5.273000\n",
       "...     ...    ...      ...     ...  ...      ...   ...        ...\n",
       "526    19.3   0.54       51     264   25    290.0     0   5.669881\n",
       "1450   17.4   0.29      265    1524    5   1549.0     0   7.345365\n",
       "1271   14.9   0.22     1011    6801    7   9188.0     1   9.125653\n",
       "938     8.8   0.50      142    1605   14   2215.0     0   7.703008\n",
       "1254    3.0   0.38     1049   34547    8  88975.0     0  11.396110\n",
       "\n",
       "[1534 rows x 8 columns]"
      ]
     },
     "execution_count": 17,
     "metadata": {},
     "output_type": "execute_result"
    }
   ],
   "source": [
    "df.sort_values('prate',ascending=False)"
   ]
  },
  {
   "cell_type": "code",
   "execution_count": 5,
   "id": "1584fed8",
   "metadata": {},
   "outputs": [
    {
     "data": {
      "text/plain": [
       "45.062500000000014"
      ]
     },
     "execution_count": 5,
     "metadata": {},
     "output_type": "execute_result"
    }
   ],
   "source": [
    "q1=df.prate.quantile(0.25)\n",
    "q3=df.prate.quantile(0.75)\n",
    "q1-(1.5*(q3-q1))"
   ]
  },
  {
   "cell_type": "code",
   "execution_count": 18,
   "id": "9c11cb5f",
   "metadata": {},
   "outputs": [],
   "source": [
    "df=df[df.prate>45.0625]"
   ]
  },
  {
   "cell_type": "code",
   "execution_count": 19,
   "id": "d4e10d4b",
   "metadata": {},
   "outputs": [
    {
     "name": "stderr",
     "output_type": "stream",
     "text": [
      "C:\\Users\\abbie\\anaconda3\\lib\\site-packages\\seaborn\\_decorators.py:36: FutureWarning: Pass the following variable as a keyword arg: x. From version 0.12, the only valid positional argument will be `data`, and passing other arguments without an explicit keyword will result in an error or misinterpretation.\n",
      "  warnings.warn(\n"
     ]
    },
    {
     "data": {
      "text/plain": [
       "<AxesSubplot:xlabel='prate'>"
      ]
     },
     "execution_count": 19,
     "metadata": {},
     "output_type": "execute_result"
    },
    {
     "data": {
      "image/png": "[encoded data removed]",
      "text/plain": [
       "<Figure size 640x480 with 1 Axes>"
      ]
     },
     "metadata": {},
     "output_type": "display_data"
    }
   ],
   "source": [
    "sns.boxplot(df.prate)"
   ]
  },
  {
   "cell_type": "code",
   "execution_count": 21,
   "id": "879420d3",
   "metadata": {},
   "outputs": [
    {
     "data": {
      "text/plain": [
       "<AxesSubplot:xlabel='age', ylabel='prate'>"
      ]
     },
     "execution_count": 21,
     "metadata": {},
     "output_type": "execute_result"
    },
    {
     "data": {
      "image/png": "[encoded data removed]",
      "text/plain": [
       "<Figure size 640x480 with 1 Axes>"
      ]
     },
     "metadata": {},
     "output_type": "display_data"
    }
   ],
   "source": [
    "sns.scatterplot(y=df.prate,x=df.age)"
   ]
  },
  {
   "cell_type": "code",
   "execution_count": 22,
   "id": "21d08f7a",
   "metadata": {},
   "outputs": [
    {
     "data": {
      "text/plain": [
       "<AxesSubplot:>"
      ]
     },
     "execution_count": 22,
     "metadata": {},
     "output_type": "execute_result"
    },
    {
     "data": {
      "image/png": "[encoded data removed]",
      "text/plain": [
       "<Figure size 640x480 with 2 Axes>"
      ]
     },
     "metadata": {},
     "output_type": "display_data"
    }
   ],
   "source": [
    "sns.heatmap(df.corr(),annot=True)"
   ]
  },
  {
   "cell_type": "code",
   "execution_count": 23,
   "id": "f0edb234",
   "metadata": {},
   "outputs": [
    {
     "data": {
      "text/plain": [
       "prate      1.000000\n",
       "mrate      0.275895\n",
       "sole       0.183290\n",
       "age        0.145701\n",
       "totpart   -0.010939\n",
       "totemp    -0.053157\n",
       "totelg    -0.054028\n",
       "ltotemp   -0.197878\n",
       "Name: prate, dtype: float64"
      ]
     },
     "execution_count": 23,
     "metadata": {},
     "output_type": "execute_result"
    }
   ],
   "source": [
    "df.corr()['prate'].sort_values(ascending=False)"
   ]
  },
  {
   "cell_type": "markdown",
   "id": "3454246b",
   "metadata": {},
   "source": [
    "None of the variables are highly correlated to prate"
   ]
  },
  {
   "cell_type": "code",
   "execution_count": 24,
   "id": "9d75822c",
   "metadata": {},
   "outputs": [
    {
     "data": {
      "text/plain": [
       "Index(['prate', 'mrate', 'totpart', 'totelg', 'age', 'totemp', 'sole',\n",
       "       'ltotemp'],\n",
       "      dtype='object')"
      ]
     },
     "execution_count": 24,
     "metadata": {},
     "output_type": "execute_result"
    }
   ],
   "source": [
    "df.columns"
   ]
  },
  {
   "cell_type": "markdown",
   "id": "12839a5f",
   "metadata": {},
   "source": [
    "# OLS Regression"
   ]
  },
  {
   "cell_type": "code",
   "execution_count": 25,
   "id": "8644b4cc",
   "metadata": {},
   "outputs": [],
   "source": [
    " X=df.drop(['prate'],axis=1)\n",
    "y=df['prate']"
   ]
  },
  {
   "cell_type": "code",
   "execution_count": 31,
   "id": "fdf3bb90",
   "metadata": {},
   "outputs": [
    {
     "name": "stdout",
     "output_type": "stream",
     "text": [
      "                            OLS Regression Results                            \n",
      "==============================================================================\n",
      "Dep. Variable:                  prate   R-squared:                       0.222\n",
      "Model:                            OLS   Adj. R-squared:                  0.218\n",
      "Method:                 Least Squares   F-statistic:                     60.51\n",
      "Date:                Sun, 12 Mar 2023   Prob (F-statistic):           1.31e-76\n",
      "Time:                        22:28:03   Log-Likelihood:                -5873.9\n",
      "No. Observations:                1492   AIC:                         1.176e+04\n",
      "Df Residuals:                    1484   BIC:                         1.181e+04\n",
      "Df Model:                           7                                         \n",
      "Covariance Type:            nonrobust                                         \n",
      "==============================================================================\n",
      "                 coef    std err          t      P>|t|      [0.025      0.975]\n",
      "------------------------------------------------------------------------------\n",
      "const         96.1631      2.245     42.829      0.000      91.759     100.567\n",
      "mrate          3.6631      0.421      8.699      0.000       2.837       4.489\n",
      "totpart        0.0063      0.001     12.008      0.000       0.005       0.007\n",
      "totelg        -0.0055      0.000    -11.972      0.000      -0.006      -0.005\n",
      "age            0.2148      0.036      5.953      0.000       0.144       0.286\n",
      "totemp         0.0001   5.86e-05      1.842      0.066   -7.01e-06       0.000\n",
      "sole           2.4874      0.697      3.566      0.000       1.119       3.856\n",
      "ltotemp       -2.1565      0.322     -6.691      0.000      -2.789      -1.524\n",
      "==============================================================================\n",
      "Omnibus:                      193.591   Durbin-Watson:                   1.951\n",
      "Prob(Omnibus):                  0.000   Jarque-Bera (JB):              271.270\n",
      "Skew:                          -1.014   Prob(JB):                     1.24e-59\n",
      "Kurtosis:                       3.504   Cond. No.                     9.50e+04\n",
      "==============================================================================\n",
      "\n",
      "Notes:\n",
      "[1] Standard Errors assume that the covariance matrix of the errors is correctly specified.\n",
      "[2] The condition number is large, 9.5e+04. This might indicate that there are\n",
      "strong multicollinearity or other numerical problems.\n"
     ]
    }
   ],
   "source": [
    "X=sm.add_constant(X)\n",
    "mod = sm.OLS(y,X)\n",
    "res = mod.fit()\n",
    "print(res.summary())"
   ]
  },
  {
   "cell_type": "code",
   "execution_count": 69,
   "id": "62da183c",
   "metadata": {},
   "outputs": [
    {
     "data": {
      "text/html": [
       "<table class=\"simpletable\">\n",
       "<caption>OLS Regression Results</caption>\n",
       "<tr>\n",
       "  <th>Dep. Variable:</th>          <td>prate</td>      <th>  R-squared:         </th> <td>   0.222</td> \n",
       "</tr>\n",
       "<tr>\n",
       "  <th>Model:</th>                   <td>OLS</td>       <th>  Adj. R-squared:    </th> <td>   0.218</td> \n",
       "</tr>\n",
       "<tr>\n",
       "  <th>Method:</th>             <td>Least Squares</td>  <th>  F-statistic:       </th> <td>   60.51</td> \n",
       "</tr>\n",
       "<tr>\n",
       "  <th>Date:</th>             <td>Sun, 12 Mar 2023</td> <th>  Prob (F-statistic):</th> <td>1.31e-76</td> \n",
       "</tr>\n",
       "<tr>\n",
       "  <th>Time:</th>                 <td>20:23:12</td>     <th>  Log-Likelihood:    </th> <td> -5873.9</td> \n",
       "</tr>\n",
       "<tr>\n",
       "  <th>No. Observations:</th>      <td>  1492</td>      <th>  AIC:               </th> <td>1.176e+04</td>\n",
       "</tr>\n",
       "<tr>\n",
       "  <th>Df Residuals:</th>          <td>  1484</td>      <th>  BIC:               </th> <td>1.181e+04</td>\n",
       "</tr>\n",
       "<tr>\n",
       "  <th>Df Model:</th>              <td>     7</td>      <th>                     </th>     <td> </td>    \n",
       "</tr>\n",
       "<tr>\n",
       "  <th>Covariance Type:</th>      <td>nonrobust</td>    <th>                     </th>     <td> </td>    \n",
       "</tr>\n",
       "</table>\n",
       "<table class=\"simpletable\">\n",
       "<tr>\n",
       "      <td></td>         <th>coef</th>     <th>std err</th>      <th>t</th>      <th>P>|t|</th>  <th>[0.025</th>    <th>0.975]</th>  \n",
       "</tr>\n",
       "<tr>\n",
       "  <th>Intercept</th> <td>   96.1631</td> <td>    2.245</td> <td>   42.829</td> <td> 0.000</td> <td>   91.759</td> <td>  100.567</td>\n",
       "</tr>\n",
       "<tr>\n",
       "  <th>mrate</th>     <td>    3.6631</td> <td>    0.421</td> <td>    8.699</td> <td> 0.000</td> <td>    2.837</td> <td>    4.489</td>\n",
       "</tr>\n",
       "<tr>\n",
       "  <th>totpart</th>   <td>    0.0063</td> <td>    0.001</td> <td>   12.008</td> <td> 0.000</td> <td>    0.005</td> <td>    0.007</td>\n",
       "</tr>\n",
       "<tr>\n",
       "  <th>totelg</th>    <td>   -0.0055</td> <td>    0.000</td> <td>  -11.972</td> <td> 0.000</td> <td>   -0.006</td> <td>   -0.005</td>\n",
       "</tr>\n",
       "<tr>\n",
       "  <th>age</th>       <td>    0.2148</td> <td>    0.036</td> <td>    5.953</td> <td> 0.000</td> <td>    0.144</td> <td>    0.286</td>\n",
       "</tr>\n",
       "<tr>\n",
       "  <th>totemp</th>    <td>    0.0001</td> <td> 5.86e-05</td> <td>    1.842</td> <td> 0.066</td> <td>-7.01e-06</td> <td>    0.000</td>\n",
       "</tr>\n",
       "<tr>\n",
       "  <th>sole</th>      <td>    2.4874</td> <td>    0.697</td> <td>    3.566</td> <td> 0.000</td> <td>    1.119</td> <td>    3.856</td>\n",
       "</tr>\n",
       "<tr>\n",
       "  <th>ltotemp</th>   <td>   -2.1565</td> <td>    0.322</td> <td>   -6.691</td> <td> 0.000</td> <td>   -2.789</td> <td>   -1.524</td>\n",
       "</tr>\n",
       "</table>\n",
       "<table class=\"simpletable\">\n",
       "<tr>\n",
       "  <th>Omnibus:</th>       <td>193.591</td> <th>  Durbin-Watson:     </th> <td>   1.951</td>\n",
       "</tr>\n",
       "<tr>\n",
       "  <th>Prob(Omnibus):</th> <td> 0.000</td>  <th>  Jarque-Bera (JB):  </th> <td> 271.270</td>\n",
       "</tr>\n",
       "<tr>\n",
       "  <th>Skew:</th>          <td>-1.014</td>  <th>  Prob(JB):          </th> <td>1.24e-59</td>\n",
       "</tr>\n",
       "<tr>\n",
       "  <th>Kurtosis:</th>      <td> 3.504</td>  <th>  Cond. No.          </th> <td>9.50e+04</td>\n",
       "</tr>\n",
       "</table><br/><br/>Notes:<br/>[1] Standard Errors assume that the covariance matrix of the errors is correctly specified.<br/>[2] The condition number is large, 9.5e+04. This might indicate that there are<br/>strong multicollinearity or other numerical problems."
      ],
      "text/plain": [
       "<class 'statsmodels.iolib.summary.Summary'>\n",
       "\"\"\"\n",
       "                            OLS Regression Results                            \n",
       "==============================================================================\n",
       "Dep. Variable:                  prate   R-squared:                       0.222\n",
       "Model:                            OLS   Adj. R-squared:                  0.218\n",
       "Method:                 Least Squares   F-statistic:                     60.51\n",
       "Date:                Sun, 12 Mar 2023   Prob (F-statistic):           1.31e-76\n",
       "Time:                        20:23:12   Log-Likelihood:                -5873.9\n",
       "No. Observations:                1492   AIC:                         1.176e+04\n",
       "Df Residuals:                    1484   BIC:                         1.181e+04\n",
       "Df Model:                           7                                         \n",
       "Covariance Type:            nonrobust                                         \n",
       "==============================================================================\n",
       "                 coef    std err          t      P>|t|      [0.025      0.975]\n",
       "------------------------------------------------------------------------------\n",
       "Intercept     96.1631      2.245     42.829      0.000      91.759     100.567\n",
       "mrate          3.6631      0.421      8.699      0.000       2.837       4.489\n",
       "totpart        0.0063      0.001     12.008      0.000       0.005       0.007\n",
       "totelg        -0.0055      0.000    -11.972      0.000      -0.006      -0.005\n",
       "age            0.2148      0.036      5.953      0.000       0.144       0.286\n",
       "totemp         0.0001   5.86e-05      1.842      0.066   -7.01e-06       0.000\n",
       "sole           2.4874      0.697      3.566      0.000       1.119       3.856\n",
       "ltotemp       -2.1565      0.322     -6.691      0.000      -2.789      -1.524\n",
       "==============================================================================\n",
       "Omnibus:                      193.591   Durbin-Watson:                   1.951\n",
       "Prob(Omnibus):                  0.000   Jarque-Bera (JB):              271.270\n",
       "Skew:                          -1.014   Prob(JB):                     1.24e-59\n",
       "Kurtosis:                       3.504   Cond. No.                     9.50e+04\n",
       "==============================================================================\n",
       "\n",
       "Notes:\n",
       "[1] Standard Errors assume that the covariance matrix of the errors is correctly specified.\n",
       "[2] The condition number is large, 9.5e+04. This might indicate that there are\n",
       "strong multicollinearity or other numerical problems.\n",
       "\"\"\""
      ]
     },
     "execution_count": 69,
     "metadata": {},
     "output_type": "execute_result"
    }
   ],
   "source": [
    "mod = smf.ols('prate~mrate+totpart+totelg+age+totemp+sole+ltotemp',df)\n",
    "res = mod.fit()\n",
    "res.summary()"
   ]
  },
  {
   "cell_type": "markdown",
   "id": "bc72afea",
   "metadata": {},
   "source": [
    "# Linear Regression"
   ]
  },
  {
   "cell_type": "code",
   "execution_count": 33,
   "id": "51379598",
   "metadata": {},
   "outputs": [],
   "source": [
    "from sklearn.linear_model import LinearRegression"
   ]
  },
  {
   "cell_type": "code",
   "execution_count": 34,
   "id": "67a765d6",
   "metadata": {},
   "outputs": [],
   "source": [
    "reg0 = LinearRegression().fit(X, y)"
   ]
  },
  {
   "cell_type": "code",
   "execution_count": 39,
   "id": "92b4110b",
   "metadata": {},
   "outputs": [
    {
     "name": "stdout",
     "output_type": "stream",
     "text": [
      "[ 0.00000000e+00  3.66311148e+00  6.27718744e-03 -5.46498874e-03\n",
      "  2.14754230e-01  1.07841433e-04  2.48742855e+00 -2.15650016e+00]\n",
      "96.16311577656653\n",
      "[92.98202953 92.16157194 86.06575485 ... 97.22655192 87.98601456\n",
      " 87.6829581 ]\n"
     ]
    }
   ],
   "source": [
    "reg0.coef_\n",
    "print(reg0.coef_)\n",
    "\n",
    "reg0.intercept_\n",
    "print(reg0.intercept_)\n",
    "\n",
    "reg0.predict(X)\n",
    "print(reg0.predict(X))"
   ]
  },
  {
   "cell_type": "markdown",
   "id": "77743116",
   "metadata": {},
   "source": [
    "# Selecting Important Features for the model"
   ]
  },
  {
   "cell_type": "code",
   "execution_count": 46,
   "id": "179152eb",
   "metadata": {},
   "outputs": [],
   "source": [
    "selector = RFE(LinearRegression(), n_features_to_select=3, step=1)\n",
    "selector = selector.fit(X, y)"
   ]
  },
  {
   "cell_type": "code",
   "execution_count": 47,
   "id": "766305de",
   "metadata": {},
   "outputs": [
    {
     "name": "stdout",
     "output_type": "stream",
     "text": [
      "[False  True False False False False  True  True]\n",
      "[6 1 3 4 2 5 1 1]\n",
      "0.11570290832548324\n",
      "[False  True False False False False  True  True]\n",
      "[6 1 3 4 2 5 1 1]\n",
      "0.11570290832548324\n"
     ]
    }
   ],
   "source": [
    "selector.support_\n",
    "print (selector.support_)\n",
    "\n",
    "selector.ranking_\n",
    "print(selector.ranking_)\n",
    "\n",
    "selector.score(X,y)\n",
    "print(selector.score(X,y))\n",
    "\n",
    "selector = RFE(LinearRegression(), n_features_to_select=3, step=1)\n",
    "selector = selector.fit(X, y)\n",
    "\n",
    "selector.support_\n",
    "print(selector.support_)\n",
    "\n",
    "selector.ranking_\n",
    "print(selector.ranking_)\n",
    "\n",
    "selector.score(X,y)\n",
    "print(selector.score(X,y))"
   ]
  },
  {
   "cell_type": "markdown",
   "id": "f668943f",
   "metadata": {},
   "source": [
    "# KNN regression"
   ]
  },
  {
   "cell_type": "code",
   "execution_count": 84,
   "id": "fb2ef0d4",
   "metadata": {},
   "outputs": [
    {
     "data": {
      "text/plain": [
       "KNeighborsRegressor(n_neighbors=2)"
      ]
     },
     "execution_count": 84,
     "metadata": {},
     "output_type": "execute_result"
    }
   ],
   "source": [
    "from sklearn.neighbors import KNeighborsRegressor\n",
    "neigh = KNeighborsRegressor(n_neighbors=2)\n",
    "neigh.fit(X,y)"
   ]
  },
  {
   "cell_type": "code",
   "execution_count": 85,
   "id": "e0eae75c",
   "metadata": {},
   "outputs": [
    {
     "data": {
      "text/plain": [
       "0.9080353457255131"
      ]
     },
     "execution_count": 85,
     "metadata": {},
     "output_type": "execute_result"
    }
   ],
   "source": [
    "neigh.score(X,y)"
   ]
  },
  {
   "cell_type": "code",
   "execution_count": 86,
   "id": "947f1fa6",
   "metadata": {},
   "outputs": [
    {
     "data": {
      "text/plain": [
       "[1.0,\n",
       " 0.9080353457255131,\n",
       " 0.867831728794993,\n",
       " 0.835683577730012,\n",
       " 0.8101065742874378,\n",
       " 0.791620794845182,\n",
       " 0.7717619499108106,\n",
       " 0.7537122354650031,\n",
       " 0.7330717112955162]"
      ]
     },
     "execution_count": 86,
     "metadata": {},
     "output_type": "execute_result"
    }
   ],
   "source": [
    "models = [KNeighborsRegressor(n_neighbors=i) for i in range(1,10)]\n",
    "[model.fit(X,y).score(X,y) for model in models]"
   ]
  },
  {
   "cell_type": "code",
   "execution_count": 49,
   "id": "7c05799d",
   "metadata": {},
   "outputs": [],
   "source": [
    "from sklearn import linear_model"
   ]
  },
  {
   "cell_type": "code",
   "execution_count": 50,
   "id": "31c63d8a",
   "metadata": {},
   "outputs": [
    {
     "data": {
      "text/plain": [
       "Lasso(alpha=0.1)"
      ]
     },
     "execution_count": 50,
     "metadata": {},
     "output_type": "execute_result"
    }
   ],
   "source": [
    "clf = linear_model.Lasso(alpha=0.1)\n",
    "clf.fit(X, y)"
   ]
  },
  {
   "cell_type": "code",
   "execution_count": 53,
   "id": "0a51d7dd",
   "metadata": {},
   "outputs": [
    {
     "name": "stdout",
     "output_type": "stream",
     "text": [
      "[ 0.00000000e+00  3.53542920e+00  6.31124721e-03 -5.49717198e-03\n",
      "  2.13879865e-01  1.03105493e-04  2.11939508e+00 -2.12666289e+00]\n",
      "96.27167487785465\n"
     ]
    },
    {
     "data": {
      "text/plain": [
       "8.007278559669253"
      ]
     },
     "execution_count": 53,
     "metadata": {},
     "output_type": "execute_result"
    }
   ],
   "source": [
    "clf.coef_\n",
    "print(clf.coef_)\n",
    "\n",
    "clf.intercept_\n",
    "print(clf.intercept_)\n",
    "\n",
    "np.abs(clf.coef_).sum()"
   ]
  },
  {
   "cell_type": "code",
   "execution_count": 54,
   "id": "92c04890",
   "metadata": {},
   "outputs": [
    {
     "data": {
      "text/plain": [
       "LinearRegression()"
      ]
     },
     "execution_count": 54,
     "metadata": {},
     "output_type": "execute_result"
    }
   ],
   "source": [
    "lm = linear_model.LinearRegression()\n",
    "lm.fit(X,y)"
   ]
  },
  {
   "cell_type": "code",
   "execution_count": 55,
   "id": "6d0181d0",
   "metadata": {},
   "outputs": [
    {
     "name": "stdout",
     "output_type": "stream",
     "text": [
      "[ 0.00000000e+00  3.66311148e+00  6.27718744e-03 -5.46498874e-03\n",
      "  2.14754230e-01  1.07841433e-04  2.48742855e+00 -2.15650016e+00]\n",
      "96.16311577656653\n",
      "8.533644442535323\n",
      "[92.98202953 92.16157194 86.06575485 ... 97.22655192 87.98601456\n",
      " 87.6829581 ]\n",
      "88.89919571045577\n",
      "[ 0.00000000e+00  0.00000000e+00  7.18236721e-03 -6.22277371e-03\n",
      "  1.24477259e-01 -1.10241649e-04  0.00000000e+00 -0.00000000e+00]\n",
      "87.66406136974771\n"
     ]
    }
   ],
   "source": [
    "lm.coef_\n",
    "print(lm.coef_)\n",
    "\n",
    "lm.intercept_\n",
    "print(lm.intercept_)\n",
    "\n",
    "np.abs(lm.coef_).sum()\n",
    "print(np.abs(lm.coef_).sum())\n",
    "\n",
    "lm.predict(X)\n",
    "print(lm.predict(X))\n",
    "\n",
    "lm.predict(X).mean()\n",
    "print(lm.predict(X).mean())\n",
    "\n",
    "clf = linear_model.LassoCV()\n",
    "clf.fit(X,y)\n",
    "\n",
    "clf.coef_\n",
    "print(clf.coef_)\n",
    "\n",
    "clf.intercept_\n",
    "print(clf.intercept_)\n",
    "\n"
   ]
  },
  {
   "cell_type": "code",
   "execution_count": 56,
   "id": "76e6f38d",
   "metadata": {},
   "outputs": [
    {
     "data": {
      "text/plain": [
       "array([[206.34224567, 169.29534067, 229.41287708, 168.35296935,\n",
       "        218.37531524],\n",
       "       [206.28433801, 169.31484163, 229.34639916, 168.37589782,\n",
       "        218.37531524],\n",
       "       [206.22268544, 169.33425463, 229.28628557, 168.40678238,\n",
       "        218.37531524],\n",
       "       [206.16666164, 169.35342586, 229.23261812, 168.44384923,\n",
       "        218.37531524],\n",
       "       [206.11569531, 169.3722327 , 229.18465045, 168.48560536,\n",
       "        218.37531524],\n",
       "       [206.06927866, 169.39057888, 229.14172712, 168.53079855,\n",
       "        218.37531524],\n",
       "       [206.02695986, 169.40839034, 229.10327223, 168.5783829 ,\n",
       "        218.37531524],\n",
       "       [205.98833644, 169.42561172, 229.06877939, 168.62748909,\n",
       "        218.37531524],\n",
       "       [205.95304953, 169.44220329, 229.03780309, 168.67739862,\n",
       "        218.37531524],\n",
       "       [205.92077871, 169.45813835, 229.00995109, 168.72752162,\n",
       "        218.37531524],\n",
       "       [205.89123764, 169.47340101, 228.9848778 , 168.77737777,\n",
       "        218.33640348],\n",
       "       [205.86417007, 169.48798429, 228.96227852, 168.82657981,\n",
       "        218.1910809 ],\n",
       "       [205.83934645, 169.50188848, 228.94188436, 168.87481937,\n",
       "        218.05936181],\n",
       "       [205.81656088, 169.51511978, 228.92345789, 168.92185475,\n",
       "        217.93983322],\n",
       "       [205.79562845, 169.52768913, 228.90678921, 168.9675005 ,\n",
       "        217.831242  ],\n",
       "       [205.77638292, 169.5396112 , 228.89169267, 169.01161836,\n",
       "        217.73247569],\n",
       "       [205.75867464, 169.55090361, 228.87800386, 169.05410962,\n",
       "        217.64254568],\n",
       "       [205.74236871, 169.56158613, 228.86557707, 169.09490849,\n",
       "        217.56057252],\n",
       "       [205.72734342, 169.57168018, 228.85428303, 169.13397646,\n",
       "        217.52032252],\n",
       "       [205.71348879, 169.58120829, 228.84400694, 169.17129747,\n",
       "        217.52315144],\n",
       "       [205.70070534, 169.59019371, 228.83464676, 169.26714533,\n",
       "        217.5297926 ],\n",
       "       [205.68890298, 169.59866007, 228.82611166, 169.38066766,\n",
       "        217.53948635],\n",
       "       [205.68714796, 169.58548729, 228.81832074, 169.50689692,\n",
       "        217.5515617 ],\n",
       "       [205.68872663, 169.24666878, 228.81120184, 169.64228508,\n",
       "        217.56549114],\n",
       "       [204.9466396 , 167.98950314, 228.80439234, 169.78391807,\n",
       "        217.55615058],\n",
       "       [202.90679514, 166.84029413, 228.79780046, 169.92943417,\n",
       "        217.51693574],\n",
       "       [201.12703498, 165.78837908, 226.32652232, 168.72905946,\n",
       "        215.23305963],\n",
       "       [199.57352854, 164.82479908, 223.23873546, 165.09164044,\n",
       "        212.18828943],\n",
       "       [198.21687027, 163.94129373, 220.5706213 , 162.05249666,\n",
       "        209.50693856],\n",
       "       [197.03277997, 163.13047195, 218.265513  , 159.52546309,\n",
       "        207.15853566],\n",
       "       [195.9978778 , 162.38403652, 216.27617101, 157.43505027,\n",
       "        205.09930607],\n",
       "       [195.08943511, 161.69317463, 214.55989055, 155.71825081,\n",
       "        203.293792  ],\n",
       "       [194.29245384, 161.05806416, 213.07677603, 154.31890579,\n",
       "        201.71042476],\n",
       "       [193.59607068, 160.47343801, 211.7887547 , 153.18885535,\n",
       "        200.32085464],\n",
       "       [192.98796448, 159.93487998, 210.6815117 , 152.28145396,\n",
       "        199.08884437],\n",
       "       [192.45673219, 159.43883441, 209.73085377, 151.57038813,\n",
       "        198.00730402],\n",
       "       [191.99175657, 158.98125206, 208.91481487, 151.02552137,\n",
       "        197.05673288],\n",
       "       [191.58524521, 158.55886822, 208.21560243, 150.61999054,\n",
       "        196.22071516],\n",
       "       [191.22943307, 158.16874111, 207.61677189, 150.33037365,\n",
       "        195.48566609],\n",
       "       [190.91810163, 157.8082021 , 207.1042267 , 150.13777799,\n",
       "        194.83763158],\n",
       "       [190.64512814, 157.47482689, 206.66721387, 150.02534237,\n",
       "        194.26703231],\n",
       "       [190.40586847, 157.1667078 , 206.29436495, 149.97891419,\n",
       "        193.76372662],\n",
       "       [190.19623879, 156.88124144, 205.97710335, 149.98644146,\n",
       "        193.3198774 ],\n",
       "       [190.01216029, 156.61688293, 205.70794428, 150.03759864,\n",
       "        192.92727309],\n",
       "       [189.85070711, 156.37223175, 205.47976036, 150.12379922,\n",
       "        192.58006709],\n",
       "       [189.70877053, 156.14525367, 205.28716307, 150.23765396,\n",
       "        192.27275203],\n",
       "       [189.58413841, 155.93502868, 205.12496571, 150.37277931,\n",
       "        192.00049327],\n",
       "       [189.47443382, 155.73983007, 204.98872355, 150.52424198,\n",
       "        191.75936035],\n",
       "       [189.37798332, 155.55870841, 204.87496209, 150.68753508,\n",
       "        191.5450413 ],\n",
       "       [189.29296759, 155.3908047 , 204.78033318, 150.85877535,\n",
       "        191.35459137],\n",
       "       [189.21812011, 155.23473674, 204.70197472, 151.03532331,\n",
       "        191.18518735],\n",
       "       [189.15204672, 155.0897881 , 204.63764685, 151.21449082,\n",
       "        191.03455498],\n",
       "       [189.09372956, 154.95531325, 204.58514809, 151.39396792,\n",
       "        190.90008342],\n",
       "       [189.0422716 , 154.830204  , 204.54280469, 151.57253109,\n",
       "        190.78006649],\n",
       "       [188.99673277, 154.71391718, 204.50898987, 151.74862774,\n",
       "        190.67283765],\n",
       "       [188.9564369 , 154.60581514, 204.48245734, 151.92116966,\n",
       "        190.57692367],\n",
       "       [188.92078792, 154.50530099, 204.46201167, 152.08907432,\n",
       "        190.49102968],\n",
       "       [188.88915197, 154.41182345, 204.44670929, 152.2521656 ,\n",
       "        190.41401732],\n",
       "       [188.86107874, 154.32487359, 204.43571516, 152.40975684,\n",
       "        190.34488524],\n",
       "       [188.83614388, 154.24398132, 204.42831272, 152.56149341,\n",
       "        190.282752  ],\n",
       "       [188.81397379, 154.16871216, 204.42389353, 152.70737505,\n",
       "        190.22684119],\n",
       "       [188.79424105, 154.0985563 , 204.42192254, 152.84683532,\n",
       "        190.1763754 ],\n",
       "       [188.7766396 , 154.03335523, 204.42196106, 152.98002078,\n",
       "        190.13093685],\n",
       "       [188.76095649, 153.97266756, 204.4236329 , 153.10696085,\n",
       "        190.08990551],\n",
       "       [188.74695239, 153.91616729, 204.42661191, 153.22772315,\n",
       "        190.0528042 ],\n",
       "       [188.73443212, 153.86347252, 204.43062559, 153.34260681,\n",
       "        190.01914834],\n",
       "       [188.72321338, 153.8144792 , 204.43544371, 153.45138025,\n",
       "        189.98870381],\n",
       "       [188.71317077, 153.76878063, 204.44087231, 153.55437636,\n",
       "        189.96102421],\n",
       "       [188.70416119, 153.72628522, 204.4467575 , 153.65196261,\n",
       "        189.93592925],\n",
       "       [188.69605952, 153.686639  , 204.45294705, 153.74401053,\n",
       "        189.91305986],\n",
       "       [188.68878082, 153.6497663 , 204.45933456, 153.83102908,\n",
       "        189.89228056],\n",
       "       [188.68222046, 153.6153591 , 204.46583716, 153.9129463 ,\n",
       "        189.87330127],\n",
       "       [188.67631208, 153.58335495, 204.47235945, 153.99025301,\n",
       "        189.85602043],\n",
       "       [188.67097402, 153.55348555, 204.47885691, 154.06290788,\n",
       "        189.84020245],\n",
       "       [188.66615469, 153.52565005, 204.48526078, 154.13137442,\n",
       "        189.82577145],\n",
       "       [188.66179019, 153.49975813, 204.491549  , 154.19563194,\n",
       "        189.81253502],\n",
       "       [188.65783657, 153.47558843, 204.49767206, 154.25611201,\n",
       "        189.8004081 ],\n",
       "       [188.65425453, 153.4530606 , 204.50362342, 154.31291357,\n",
       "        189.78931597],\n",
       "       [188.6509993 , 153.43210316, 204.50936768, 154.36612565,\n",
       "        189.77911354],\n",
       "       [188.64804025, 153.41253621, 204.51490883, 154.41613483,\n",
       "        189.76974144],\n",
       "       [188.64535   , 153.39429582, 204.52023037, 154.46303714,\n",
       "        189.76112676],\n",
       "       [188.64289709, 153.37729402, 204.52531831, 154.50700122,\n",
       "        189.75322165],\n",
       "       [188.64066003, 153.36147557, 204.53018638, 154.54811703,\n",
       "        189.74592674],\n",
       "       [188.63861783, 153.34670389, 204.53482779, 154.58670058,\n",
       "        189.73920478],\n",
       "       [188.63675314, 153.33293159, 204.53924407, 154.62283648,\n",
       "        189.73300783],\n",
       "       [188.63504606, 153.3185034 , 204.54343211, 154.65666468,\n",
       "        189.72729123],\n",
       "       [188.63348294, 153.18468581, 204.54741025, 154.68826208,\n",
       "        189.72202786],\n",
       "       [188.6320504 , 153.11043116, 204.55117852, 154.71788156,\n",
       "        189.71715438],\n",
       "       [188.52712486, 153.08510245, 204.41157301, 154.74559371,\n",
       "        189.71264952],\n",
       "       [187.97841278, 153.09968766, 203.87110386, 154.77151142,\n",
       "        189.44180814],\n",
       "       [187.49013616, 153.14651826, 203.3963118 , 154.24476536,\n",
       "        188.79786356],\n",
       "       [187.05516733, 153.21909119, 202.97896802, 153.56390333,\n",
       "        188.22754833],\n",
       "       [186.66725691, 153.31189753, 202.61188334, 152.96340904,\n",
       "        187.72183892],\n",
       "       [186.32092241, 153.42030013, 202.28878791, 152.43328642,\n",
       "        187.27284128],\n",
       "       [186.01135178, 153.54040913, 202.00421346, 151.96498163,\n",
       "        186.87381316],\n",
       "       [185.73431907, 153.66895274, 201.75338325, 151.55088498,\n",
       "        186.51886586],\n",
       "       [185.48611079, 153.80320888, 201.53212317, 151.18438943,\n",
       "        186.20269862],\n",
       "       [185.26346196, 153.94092617, 201.33679562, 150.85976783,\n",
       "        185.92078092],\n",
       "       [185.06349959, 154.08023103, 201.1642107 , 150.57192385,\n",
       "        185.66911531],\n",
       "       [184.88369429, 154.21961047, 201.01159403, 150.31645365,\n",
       "        185.4441948 ]])"
      ]
     },
     "execution_count": 56,
     "metadata": {},
     "output_type": "execute_result"
    }
   ],
   "source": [
    "clf.mse_path_"
   ]
  },
  {
   "cell_type": "code",
   "execution_count": 57,
   "id": "98067af4",
   "metadata": {},
   "outputs": [
    {
     "data": {
      "text/plain": [
       "array([198.35574961, 198.33935837, 198.32506465, 198.31437402,\n",
       "       198.30669981, 198.30153969, 198.29846411, 198.29710638,\n",
       "       198.29715395, 198.298341  , 198.29265954, 198.26641872,\n",
       "       198.24346009, 198.2233653 , 198.20576986, 198.19035617,\n",
       "       198.17684748, 198.16500258, 198.16152112, 198.16663059,\n",
       "       198.18449675, 198.20676574, 198.22988292, 198.19087469,\n",
       "       197.81612075, 197.19825193, 195.44081109, 192.98339859,\n",
       "       190.85764411, 189.02255273, 187.43848833, 186.07090862,\n",
       "       184.89132492, 183.87359468, 182.9949309 , 182.2408225 ,\n",
       "       181.59401555, 181.04008431, 180.56619716, 180.161188  ,\n",
       "       179.81590872, 179.52191641, 179.27218049, 179.06037184,\n",
       "       178.8813131 , 178.73031865, 178.60348108, 178.49731795,\n",
       "       178.40884604, 178.33549444, 178.27506845, 178.22570549,\n",
       "       178.18564845, 178.15357557, 178.12822104, 178.10856054,\n",
       "       178.09364092, 178.08277353, 178.07526191, 178.07053666,\n",
       "       178.06815914, 178.06758612, 178.0685827 , 178.07082466,\n",
       "       178.07405179, 178.07805708, 178.08264407, 178.08764486,\n",
       "       178.09301916, 178.09854319, 178.10423827, 178.10993286,\n",
       "       178.11565998, 178.12128536, 178.12684228, 178.13225286,\n",
       "       178.13752343, 178.14263362, 178.14754187, 178.15227231,\n",
       "       178.15680802, 178.16114646, 178.16527315, 178.16921097,\n",
       "       178.17295462, 178.17618749, 178.15517379, 178.1457392 ,\n",
       "       178.09640871, 177.83250477, 177.41511903, 177.00893564,\n",
       "       176.65525715, 176.34722763, 176.07895383, 175.84528118,\n",
       "       175.64170618, 175.4643465 , 175.3097961 , 175.17510945])"
      ]
     },
     "execution_count": 57,
     "metadata": {},
     "output_type": "execute_result"
    }
   ],
   "source": [
    "clf.mse_path_.mean(1)"
   ]
  },
  {
   "cell_type": "code",
   "execution_count": 59,
   "id": "5ec7bbcc",
   "metadata": {},
   "outputs": [
    {
     "name": "stdout",
     "output_type": "stream",
     "text": [
      "99\n",
      "8.307635784056528\n",
      "8.307635784056528\n",
      "[88.6276123  89.01291893 88.72689689 ... 93.63152709 88.71653699\n",
      " 92.3911297 ]\n",
      "88.89919571045577\n",
      "88.89919571045577\n",
      "22.273881864672433\n",
      "43.912954832607376\n"
     ]
    }
   ],
   "source": [
    "clf.mse_path_.mean(1).argmin()\n",
    "print(clf.mse_path_.mean(1).argmin())\n",
    "\n",
    "clf.alpha_\n",
    "print(clf.alpha_)\n",
    "\n",
    "clf.alphas_[clf.mse_path_.mean(1).argmin()]\n",
    "print(clf.alphas_[clf.mse_path_.mean(1).argmin()])\n",
    "\n",
    "clf.predict(X)\n",
    "print(clf.predict(X))\n",
    "\n",
    "clf.predict(X).mean()\n",
    "print(clf.predict(X).mean())\n",
    "\n",
    "lm.predict(X).mean()\n",
    "print(lm.predict(X).mean())\n",
    "\n",
    "clf.predict(X).var()\n",
    "print(clf.predict(X).var())\n",
    "\n",
    "lm.predict(X).var()\n",
    "print(lm.predict(X).var())"
   ]
  },
  {
   "cell_type": "code",
   "execution_count": 111,
   "id": "0f249c02",
   "metadata": {},
   "outputs": [
    {
     "data": {
      "text/plain": [
       "[<matplotlib.lines.Line2D at 0x7f92c00f3520>]"
      ]
     },
     "execution_count": 111,
     "metadata": {},
     "output_type": "execute_result"
    },
    {
     "data": {
      "image/png": "[encoded data removed]",
      "text/plain": [
       "<Figure size 432x288 with 1 Axes>"
      ]
     },
     "metadata": {
      "needs_background": "light"
     },
     "output_type": "display_data"
    }
   ],
   "source": [
    "plt.plot(clf.alphas_,clf.mse_path_.mean(1))"
   ]
  },
  {
   "cell_type": "markdown",
   "id": "7fd90036",
   "metadata": {},
   "source": [
    "# Lasso Regression"
   ]
  },
  {
   "cell_type": "code",
   "execution_count": 63,
   "id": "844a420a",
   "metadata": {},
   "outputs": [
    {
     "name": "stderr",
     "output_type": "stream",
     "text": [
      "C:\\Users\\abbie\\anaconda3\\lib\\site-packages\\sklearn\\linear_model\\_coordinate_descent.py:633: ConvergenceWarning: Objective did not converge. You might want to increase the number of iterations. Duality gap: 109.32117365050362, tolerance: 22.686908261306527\n",
      "  model = cd_fast.enet_coordinate_descent_gram(\n"
     ]
    },
    {
     "data": {
      "text/plain": [
       "LassoCV(alphas=array([1.00000000e-05, 6.02010050e-05, 1.10402010e-04, 1.60603015e-04,\n",
       "       2.10804020e-04, 2.61005025e-04, 3.11206030e-04, 3.61407035e-04,\n",
       "       4.11608040e-04, 4.61809045e-04, 5.12010050e-04, 5.62211055e-04,\n",
       "       6.12412060e-04, 6.62613065e-04, 7.12814070e-04, 7.63015075e-04,\n",
       "       8.13216080e-04, 8.63417085e-04, 9.13618090e-04, 9.63819095e-04,\n",
       "       1.01402010e-03, 1.06422111e-0...\n",
       "       8.84537688e-03, 8.89557789e-03, 8.94577889e-03, 8.99597990e-03,\n",
       "       9.04618090e-03, 9.09638191e-03, 9.14658291e-03, 9.19678392e-03,\n",
       "       9.24698492e-03, 9.29718593e-03, 9.34738693e-03, 9.39758794e-03,\n",
       "       9.44778894e-03, 9.49798995e-03, 9.54819095e-03, 9.59839196e-03,\n",
       "       9.64859296e-03, 9.69879397e-03, 9.74899497e-03, 9.79919598e-03,\n",
       "       9.84939698e-03, 9.89959799e-03, 9.94979899e-03, 1.00000000e-02]))"
      ]
     },
     "execution_count": 63,
     "metadata": {},
     "output_type": "execute_result"
    }
   ],
   "source": [
    "clf = linear_model.LassoCV(alphas=np.linspace(0.00001,0.01,200))\n",
    "clf.fit(X,y)"
   ]
  },
  {
   "cell_type": "code",
   "execution_count": 113,
   "id": "e2a291f5",
   "metadata": {},
   "outputs": [
    {
     "data": {
      "text/plain": [
       "[<matplotlib.lines.Line2D at 0x7f930dd824c0>]"
      ]
     },
     "execution_count": 113,
     "metadata": {},
     "output_type": "execute_result"
    },
    {
     "data": {
      "image/png": "[encoded data removed]",
      "text/plain": [
       "<Figure size 432x288 with 1 Axes>"
      ]
     },
     "metadata": {
      "needs_background": "light"
     },
     "output_type": "display_data"
    }
   ],
   "source": [
    "plt.plot(clf.alphas_,clf.mse_path_.mean(1))"
   ]
  },
  {
   "cell_type": "code",
   "execution_count": 64,
   "id": "9f290e92",
   "metadata": {},
   "outputs": [
    {
     "name": "stdout",
     "output_type": "stream",
     "text": [
      "0.01\n",
      "[ 0.00000000e+00  3.65034326e+00  6.28059331e-03 -5.46820698e-03\n",
      "  2.14666794e-01  1.07367841e-04  2.45062521e+00 -2.15351644e+00]\n",
      "[ 0.00000000e+00  3.66311148e+00  6.27718744e-03 -5.46498874e-03\n",
      "  2.14754230e-01  1.07841433e-04  2.48742855e+00 -2.15650016e+00]\n"
     ]
    }
   ],
   "source": [
    "clf.alpha_\n",
    "print(clf.alpha_)\n",
    "\n",
    "clf.coef_\n",
    "print(clf.coef_)\n",
    "\n",
    "lm.coef_\n",
    "print(lm.coef_)"
   ]
  },
  {
   "cell_type": "markdown",
   "id": "20d53133",
   "metadata": {},
   "source": [
    "# Ridge Regression"
   ]
  },
  {
   "cell_type": "code",
   "execution_count": 61,
   "id": "85a33319",
   "metadata": {},
   "outputs": [
    {
     "data": {
      "text/plain": [
       "Ridge()"
      ]
     },
     "execution_count": 61,
     "metadata": {},
     "output_type": "execute_result"
    }
   ],
   "source": [
    "clf = Ridge(alpha=1.0)\n",
    "clf.fit(X,y)"
   ]
  },
  {
   "cell_type": "code",
   "execution_count": 65,
   "id": "9d16479a",
   "metadata": {},
   "outputs": [
    {
     "name": "stdout",
     "output_type": "stream",
     "text": [
      "[ 0.00000000e+00  3.65034326e+00  6.28059331e-03 -5.46820698e-03\n",
      "  2.14666794e-01  1.07367841e-04  2.45062521e+00 -2.15351644e+00]\n",
      "96.1739717056931\n",
      "[ 0.00000000e+00  3.66311148e+00  6.27718744e-03 -5.46498874e-03\n",
      "  2.14754230e-01  1.07841433e-04  2.48742855e+00 -2.15650016e+00]\n",
      "96.16311577656653\n",
      "[92.95449069 92.13977801 86.08899016 ... 97.22762109 87.97194982\n",
      " 87.70893859]\n",
      "88.89919571045577\n",
      "88.89919571045577\n",
      "43.7428063974858\n",
      "43.912954832607376\n"
     ]
    }
   ],
   "source": [
    "clf.coef_\n",
    "print(clf.coef_)\n",
    "\n",
    "clf.intercept_\n",
    "print(clf.intercept_)\n",
    "\n",
    "lm.coef_\n",
    "print(lm.coef_)\n",
    "\n",
    "lm.intercept_\n",
    "print(lm.intercept_)\n",
    "\n",
    "clf.predict(X)\n",
    "print(clf.predict(X))\n",
    "\n",
    "clf.predict(X).mean()\n",
    "print(clf.predict(X).mean())\n",
    "\n",
    "lm.predict(X).mean()\n",
    "print(lm.predict(X).mean())\n",
    "\n",
    "clf.predict(X).var()\n",
    "print(clf.predict(X).var())\n",
    "\n",
    "lm.predict(X).var()\n",
    "print(lm.predict(X).var())"
   ]
  },
  {
   "cell_type": "code",
   "execution_count": 66,
   "id": "17baa6ed",
   "metadata": {},
   "outputs": [
    {
     "data": {
      "text/plain": [
       "RidgeCV(alphas=array([1.00000000e-01, 6.00400400e-01, 1.10080080e+00, 1.60120120e+00,\n",
       "       2.10160160e+00, 2.60200200e+00, 3.10240240e+00, 3.60280280e+00,\n",
       "       4.10320320e+00, 4.60360360e+00, 5.10400400e+00, 5.60440440e+00,\n",
       "       6.10480480e+00, 6.60520521e+00, 7.10560561e+00, 7.60600601e+00,\n",
       "       8.10640641e+00, 8.60680681e+00, 9.10720721e+00, 9.60760761e+00,\n",
       "       1.01080080e+01, 1.06084084e+0...\n",
       "       4.88490791e+02, 4.88991191e+02, 4.89491592e+02, 4.89991992e+02,\n",
       "       4.90492392e+02, 4.90992793e+02, 4.91493193e+02, 4.91993594e+02,\n",
       "       4.92493994e+02, 4.92994394e+02, 4.93494795e+02, 4.93995195e+02,\n",
       "       4.94495596e+02, 4.94995996e+02, 4.95496396e+02, 4.95996797e+02,\n",
       "       4.96497197e+02, 4.96997598e+02, 4.97497998e+02, 4.97998398e+02,\n",
       "       4.98498799e+02, 4.98999199e+02, 4.99499600e+02, 5.00000000e+02]),\n",
       "        store_cv_values=True)"
      ]
     },
     "execution_count": 66,
     "metadata": {},
     "output_type": "execute_result"
    }
   ],
   "source": [
    "clf = linear_model.RidgeCV(alphas=np.linspace(0.1,500,1000),store_cv_values=True,cv=None)\n",
    "clf.fit(X,y)"
   ]
  },
  {
   "cell_type": "code",
   "execution_count": 67,
   "id": "cbd028ed",
   "metadata": {},
   "outputs": [
    {
     "name": "stdout",
     "output_type": "stream",
     "text": [
      "[ 0.00000000e+00  3.53116725e+00  6.30310274e-03 -5.48860180e-03\n",
      "  2.15513176e-01  1.05187457e-04  2.27982354e+00 -2.14464076e+00]\n",
      "96.28469880050693\n",
      "38.63083083083083\n",
      "[ 0.00000000e+00  3.66311148e+00  6.27718744e-03 -5.46498874e-03\n",
      "  2.14754230e-01  1.07841433e-04  2.48742855e+00 -2.15650016e+00]\n",
      "96.16311577656653\n",
      "[92.78118963 92.02923954 86.2102001  ... 97.16497663 87.9085217\n",
      " 87.85560707]\n",
      "88.89919571045577\n",
      "88.89919571045577\n",
      "42.732539053884054\n",
      "43.912954832607376\n"
     ]
    }
   ],
   "source": [
    "clf.coef_\n",
    "print(clf.coef_)\n",
    "\n",
    "clf.intercept_\n",
    "print(clf.intercept_)\n",
    "\n",
    "clf.alpha_\n",
    "print(clf.alpha_)\n",
    "\n",
    "lm.coef_\n",
    "print(lm.coef_)\n",
    "\n",
    "lm.intercept_\n",
    "print(lm.intercept_)\n",
    "\n",
    "clf.predict(X)\n",
    "print(clf.predict(X))\n",
    "\n",
    "clf.predict(X).mean()\n",
    "print(clf.predict(X).mean())\n",
    "\n",
    "lm.predict(X).mean()\n",
    "print(lm.predict(X).mean())\n",
    "\n",
    "clf.predict(X).var()\n",
    "print(clf.predict(X).var())\n",
    "\n",
    "lm.predict(X).var()\n",
    "print(lm.predict(X).var())"
   ]
  },
  {
   "cell_type": "code",
   "execution_count": 139,
   "id": "0b9e1846",
   "metadata": {},
   "outputs": [
    {
     "data": {
      "text/plain": [
       "[<matplotlib.lines.Line2D at 0x7f92d91b8130>]"
      ]
     },
     "execution_count": 139,
     "metadata": {},
     "output_type": "execute_result"
    },
    {
     "data": {
      "image/png": "[encoded data removed]",
      "text/plain": [
       "<Figure size 432x288 with 1 Axes>"
      ]
     },
     "metadata": {
      "needs_background": "light"
     },
     "output_type": "display_data"
    }
   ],
   "source": [
    "plt.plot(np.linspace(0.1,500,1000),clf.cv_values_.mean(0))"
   ]
  },
  {
   "cell_type": "markdown",
   "id": "3af3421d",
   "metadata": {},
   "source": [
    "# Elastic Regression"
   ]
  },
  {
   "cell_type": "code",
   "execution_count": 68,
   "id": "9c1a64c1",
   "metadata": {},
   "outputs": [
    {
     "data": {
      "text/plain": [
       "ElasticNet(alpha=0.1)"
      ]
     },
     "execution_count": 68,
     "metadata": {},
     "output_type": "execute_result"
    }
   ],
   "source": [
    "clf = linear_model.ElasticNet(alpha=0.1,l1_ratio=0.5)\n",
    "clf.fit(X, y)"
   ]
  },
  {
   "cell_type": "code",
   "execution_count": 69,
   "id": "43fb6086",
   "metadata": {},
   "outputs": [
    {
     "name": "stdout",
     "output_type": "stream",
     "text": [
      "[ 0.00000000e+00  3.35396551e+00  6.34199288e-03 -5.52409277e-03\n",
      "  2.15722827e-01  9.98903912e-05  1.97069221e+00 -2.10978392e+00]\n",
      "[ 0.00000000e+00  3.66311148e+00  6.27718744e-03 -5.46498874e-03\n",
      "  2.14754230e-01  1.07841433e-04  2.48742855e+00 -2.15650016e+00]\n",
      "96.35397761064738\n",
      "96.16311577656653\n"
     ]
    }
   ],
   "source": [
    "clf.coef_\n",
    "print(clf.coef_)\n",
    "\n",
    "lm.coef_\n",
    "print(lm.coef_)\n",
    "\n",
    "clf.intercept_\n",
    "print(clf.intercept_)\n",
    "\n",
    "lm.intercept_\n",
    "print(lm.intercept_)\n"
   ]
  },
  {
   "cell_type": "code",
   "execution_count": 70,
   "id": "b39ad5d4",
   "metadata": {},
   "outputs": [
    {
     "name": "stderr",
     "output_type": "stream",
     "text": [
      "C:\\Users\\abbie\\anaconda3\\lib\\site-packages\\sklearn\\linear_model\\_coordinate_descent.py:633: ConvergenceWarning: Objective did not converge. You might want to increase the number of iterations. Duality gap: 398.7406023304502, tolerance: 22.686908261306527\n",
      "  model = cd_fast.enet_coordinate_descent_gram(\n"
     ]
    },
    {
     "data": {
      "text/plain": [
       "ElasticNetCV(alphas=array([0.0001    , 0.00011984, 0.00013968, 0.00015952, 0.00017936,\n",
       "       0.0001992 , 0.00021904, 0.00023888, 0.00025872, 0.00027856,\n",
       "       0.0002984 , 0.00031824, 0.00033808, 0.00035792, 0.00037776,\n",
       "       0.0003976 , 0.00041743, 0.00043727, 0.00045711, 0.00047695,\n",
       "       0.00049679, 0.00051663, 0.00053647, 0.00055631, 0.00057615,\n",
       "       0.00059599, 0.00061583, 0.00063567, 0.00065551, 0.00067535,...\n",
       "       0.00932545, 0.00934529, 0.00936513, 0.00938497, 0.00940481,\n",
       "       0.00942465, 0.00944449, 0.00946433, 0.00948417, 0.00950401,\n",
       "       0.00952385, 0.00954369, 0.00956353, 0.00958337, 0.00960321,\n",
       "       0.00962305, 0.00964289, 0.00966273, 0.00968257, 0.0097024 ,\n",
       "       0.00972224, 0.00974208, 0.00976192, 0.00978176, 0.0098016 ,\n",
       "       0.00982144, 0.00984128, 0.00986112, 0.00988096, 0.0099008 ,\n",
       "       0.00992064, 0.00994048, 0.00996032, 0.00998016, 0.01      ]))"
      ]
     },
     "execution_count": 70,
     "metadata": {},
     "output_type": "execute_result"
    }
   ],
   "source": [
    "clf = linear_model.ElasticNetCV(alphas=np.linspace(0.0001,0.01,500))\n",
    "clf.fit(X, y)"
   ]
  },
  {
   "cell_type": "code",
   "execution_count": 71,
   "id": "398ca350",
   "metadata": {},
   "outputs": [
    {
     "name": "stdout",
     "output_type": "stream",
     "text": [
      "[ 0.00000000e+00  3.63066172e+00  6.28401260e-03 -5.47128767e-03\n",
      "  2.14861677e-01  1.07116600e-04  2.42572075e+00 -2.15318203e+00]\n",
      "[ 0.00000000e+00  3.66311148e+00  6.27718744e-03 -5.46498874e-03\n",
      "  2.14754230e-01  1.07841433e-04  2.48742855e+00 -2.15650016e+00]\n",
      "96.19701615573996\n",
      "0.01\n"
     ]
    }
   ],
   "source": [
    "clf.coef_\n",
    "print(clf.coef_)\n",
    "\n",
    "lm.coef_\n",
    "print(lm.coef_)\n",
    "\n",
    "clf.intercept_\n",
    "print(clf.intercept_)\n",
    "\n",
    "clf.alpha_\n",
    "print(clf.alpha_)"
   ]
  },
  {
   "cell_type": "code",
   "execution_count": 150,
   "id": "9c8c4887",
   "metadata": {},
   "outputs": [
    {
     "data": {
      "text/plain": [
       "[<matplotlib.lines.Line2D at 0x7f930df0d790>]"
      ]
     },
     "execution_count": 150,
     "metadata": {},
     "output_type": "execute_result"
    },
    {
     "data": {
      "image/png": "[encoded data removed]",
      "text/plain": [
       "<Figure size 432x288 with 1 Axes>"
      ]
     },
     "metadata": {
      "needs_background": "light"
     },
     "output_type": "display_data"
    }
   ],
   "source": [
    "plt.plot(clf.alphas_,clf.mse_path_.mean(1))"
   ]
  },
  {
   "cell_type": "code",
   "execution_count": 151,
   "id": "41fb5a80",
   "metadata": {},
   "outputs": [
    {
     "data": {
      "text/plain": [
       "Lars(n_nonzero_coefs=3, normalize=False)"
      ]
     },
     "execution_count": 151,
     "metadata": {},
     "output_type": "execute_result"
    }
   ],
   "source": [
    "from sklearn.preprocessing import scale \n",
    "\n",
    "clf = linear_model.Lars(n_nonzero_coefs=3,normalize=False)\n",
    "clf.fit(scale(X), y)"
   ]
  },
  {
   "cell_type": "code",
   "execution_count": 72,
   "id": "b5d70672",
   "metadata": {},
   "outputs": [
    {
     "name": "stdout",
     "output_type": "stream",
     "text": [
      "[ 0.00000000e+00  3.63066172e+00  6.28401260e-03 -5.47128767e-03\n",
      "  2.14861677e-01  1.07116600e-04  2.42572075e+00 -2.15318203e+00]\n",
      "96.19701615573996\n",
      "[  0.           2.87106371  29.43676077 -29.28796093   1.9772348\n",
      "   1.19846575   1.2433913   -3.12246308]\n",
      "88.89919571045577\n",
      "[  0.           2.87106371  29.43676077 -29.28796093   1.9772348\n",
      "   1.19846575   1.2433913   -3.12246308]\n",
      "[  0.           2.87106371  29.43676077 -29.28796093   1.9772348\n",
      "   1.19846575   1.2433913   -3.12246308]\n",
      "0.22204589969133492\n",
      "0.2220458996913348\n"
     ]
    }
   ],
   "source": [
    "clf.coef_\n",
    "print(clf.coef_)\n",
    "\n",
    "clf.intercept_\n",
    "print(clf.intercept_)\n",
    "\n",
    "lm.fit(scale(X),y)\n",
    "\n",
    "lm.coef_\n",
    "print(lm.coef_)\n",
    "\n",
    "lm.intercept_\n",
    "print(lm.intercept_)\n",
    "\n",
    "clf = linear_model.LarsCV(normalize=False)\n",
    "clf.fit(scale(X), y)\n",
    "\n",
    "clf.coef_\n",
    "print(clf.coef_)\n",
    "\n",
    "lm.coef_\n",
    "print(lm.coef_)\n",
    "\n",
    "clf.score(scale(X),y)\n",
    "print(clf.score(scale(X),y))\n",
    "\n",
    "lm.score(scale(X),y)\n",
    "print(lm.score(scale(X),y))"
   ]
  },
  {
   "cell_type": "markdown",
   "id": "78789191",
   "metadata": {},
   "source": [
    "# PCA "
   ]
  },
  {
   "cell_type": "code",
   "execution_count": 73,
   "id": "3272f8c2",
   "metadata": {},
   "outputs": [
    {
     "data": {
      "text/plain": [
       "Text(0.5, 1.0, 'hp')"
      ]
     },
     "execution_count": 73,
     "metadata": {},
     "output_type": "execute_result"
    },
    {
     "data": {
      "image/png": "[encoded data removed]",
      "text/plain": [
       "<Figure size 640x480 with 1 Axes>"
      ]
     },
     "metadata": {},
     "output_type": "display_data"
    }
   ],
   "source": [
    "#scale predictor variables\n",
    "pca = PCA()\n",
    "X_reduced = pca.fit_transform(scale(X))\n",
    "\n",
    "#define cross validation method\n",
    "cv = RepeatedKFold(n_splits=10, n_repeats=3, random_state=1)\n",
    "\n",
    "regr = linear_model.LinearRegression()\n",
    "mse = []\n",
    "\n",
    "# Calculate MSE with only the intercept\n",
    "score = -1*model_selection.cross_val_score(regr,\n",
    "           np.ones((len(X_reduced),1)), y, cv=cv,\n",
    "           scoring='neg_mean_squared_error').mean()    \n",
    "mse.append(score)\n",
    "\n",
    "# Calculate MSE using cross-validation, adding one component at a time\n",
    "for i in np.arange(1, 8):\n",
    "    score = -1*model_selection.cross_val_score(regr,\n",
    "               X_reduced[:,:i], y, cv=cv, scoring='neg_mean_squared_error').mean()\n",
    "    mse.append(score)\n",
    "    \n",
    "# Plot cross-validation results    \n",
    "plt.plot(mse)\n",
    "plt.xlabel('Number of Principal Components')\n",
    "plt.ylabel('MSE')\n",
    "plt.title('hp')\n"
   ]
  },
  {
   "cell_type": "code",
   "execution_count": 74,
   "id": "0ee288e1",
   "metadata": {},
   "outputs": [
    {
     "data": {
      "text/plain": [
       "array([ 48.53,  65.42,  79.15,  90.41,  97.31,  99.88, 100.01, 100.01])"
      ]
     },
     "execution_count": 74,
     "metadata": {},
     "output_type": "execute_result"
    }
   ],
   "source": [
    "np.cumsum(np.round(pca.explained_variance_ratio_, decimals=4)*100)"
   ]
  },
  {
   "cell_type": "code",
   "execution_count": 166,
   "id": "9af6299a",
   "metadata": {},
   "outputs": [
    {
     "data": {
      "text/plain": [
       "12.769798095990316"
      ]
     },
     "execution_count": 166,
     "metadata": {},
     "output_type": "execute_result"
    }
   ],
   "source": [
    "#split the dataset into training (70%) and testing (30%) sets\n",
    "X_train,X_test,y_train,y_test = train_test_split(X,y,test_size=0.3,random_state=0) \n",
    "\n",
    "#scale the training and testing data\n",
    "X_reduced_train = pca.fit_transform(scale(X_train))\n",
    "X_reduced_test = pca.transform(scale(X_test))[:,:2]\n",
    "\n",
    "#train PCR model on training data \n",
    "regr = linear_model.LinearRegression()\n",
    "regr.fit(X_reduced_train[:,:2], y_train)\n",
    "\n",
    "#calculate RMSE\n",
    "pred = regr.predict(X_reduced_test)\n",
    "np.sqrt(mean_squared_error(y_test, pred))"
   ]
  }
 ],
 "metadata": {
  "kernelspec": {
   "display_name": "Python 3 (ipykernel)",
   "language": "python",
   "name": "python3"
  },
  "language_info": {
   "codemirror_mode": {
    "name": "ipython",
    "version": 3
   },
   "file_extension": ".py",
   "mimetype": "text/x-python",
   "name": "python",
   "nbconvert_exporter": "python",
   "pygments_lexer": "ipython3",
   "version": "3.9.13"
  }
 },
 "nbformat": 4,
 "nbformat_minor": 5
}
