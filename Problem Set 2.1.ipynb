{
 "cells": [
  {
   "cell_type": "code",
   "execution_count": 143,
   "id": "1696bc13",
   "metadata": {},
   "outputs": [],
   "source": [
    "import numpy as np\n",
    "import pandas as pd\n",
    "import matplotlib.pyplot as plt\n",
    "import seaborn as sns\n",
    "from sklearn import datasets\n",
    "from sklearn.linear_model import LinearRegression\n",
    "from sklearn.preprocessing import StandardScaler\n",
    "from sklearn.model_selection import train_test_split\n",
    "from sklearn.metrics import mean_squared_error, r2_score\n",
    "from sklearn.neighbors import KNeighborsRegressor\n",
    "from sklearn import linear_model\n",
    "from sklearn.linear_model import Ridge\n",
    "from sklearn.preprocessing import scale \n",
    "from sklearn.model_selection import RepeatedKFold\n",
    "from sklearn.decomposition import PCA\n",
    "from sklearn.preprocessing import scale \n",
    "from sklearn import model_selection\n",
    "\n",
    "#Importing necessary libraries"
   ]
  },
  {
   "cell_type": "code",
   "execution_count": 145,
   "id": "d903c383",
   "metadata": {},
   "outputs": [],
   "source": [
    "df=pd.read_csv(\"D:/Data/Spring23/AppliedML-JP/hprice1.csv\")\n",
    "\n",
    "#Reading the data into dataframe"
   ]
  },
  {
   "cell_type": "code",
   "execution_count": 146,
   "id": "f3af6c78",
   "metadata": {},
   "outputs": [
    {
     "data": {
      "text/html": [
       "<div>\n",
       "<style scoped>\n",
       "    .dataframe tbody tr th:only-of-type {\n",
       "        vertical-align: middle;\n",
       "    }\n",
       "\n",
       "    .dataframe tbody tr th {\n",
       "        vertical-align: top;\n",
       "    }\n",
       "\n",
       "    .dataframe thead th {\n",
       "        text-align: right;\n",
       "    }\n",
       "</style>\n",
       "<table border=\"1\" class=\"dataframe\">\n",
       "  <thead>\n",
       "    <tr style=\"text-align: right;\">\n",
       "      <th></th>\n",
       "      <th>price</th>\n",
       "      <th>assess</th>\n",
       "      <th>bdrms</th>\n",
       "      <th>lotsize</th>\n",
       "      <th>sqrft</th>\n",
       "      <th>colonial</th>\n",
       "      <th>lprice</th>\n",
       "      <th>lassess</th>\n",
       "      <th>llotsize</th>\n",
       "      <th>lsqrft</th>\n",
       "    </tr>\n",
       "  </thead>\n",
       "  <tbody>\n",
       "    <tr>\n",
       "      <th>0</th>\n",
       "      <td>300.0</td>\n",
       "      <td>349.1</td>\n",
       "      <td>4</td>\n",
       "      <td>6126</td>\n",
       "      <td>2438</td>\n",
       "      <td>1</td>\n",
       "      <td>5.703783</td>\n",
       "      <td>5.855359</td>\n",
       "      <td>8.720297</td>\n",
       "      <td>7.798934</td>\n",
       "    </tr>\n",
       "    <tr>\n",
       "      <th>1</th>\n",
       "      <td>370.0</td>\n",
       "      <td>351.5</td>\n",
       "      <td>3</td>\n",
       "      <td>9903</td>\n",
       "      <td>2076</td>\n",
       "      <td>1</td>\n",
       "      <td>5.913503</td>\n",
       "      <td>5.862210</td>\n",
       "      <td>9.200593</td>\n",
       "      <td>7.638198</td>\n",
       "    </tr>\n",
       "    <tr>\n",
       "      <th>2</th>\n",
       "      <td>191.0</td>\n",
       "      <td>217.7</td>\n",
       "      <td>3</td>\n",
       "      <td>5200</td>\n",
       "      <td>1374</td>\n",
       "      <td>0</td>\n",
       "      <td>5.252274</td>\n",
       "      <td>5.383118</td>\n",
       "      <td>8.556414</td>\n",
       "      <td>7.225482</td>\n",
       "    </tr>\n",
       "    <tr>\n",
       "      <th>3</th>\n",
       "      <td>195.0</td>\n",
       "      <td>231.8</td>\n",
       "      <td>3</td>\n",
       "      <td>4600</td>\n",
       "      <td>1448</td>\n",
       "      <td>1</td>\n",
       "      <td>5.273000</td>\n",
       "      <td>5.445875</td>\n",
       "      <td>8.433811</td>\n",
       "      <td>7.277938</td>\n",
       "    </tr>\n",
       "    <tr>\n",
       "      <th>4</th>\n",
       "      <td>373.0</td>\n",
       "      <td>319.1</td>\n",
       "      <td>4</td>\n",
       "      <td>6095</td>\n",
       "      <td>2514</td>\n",
       "      <td>1</td>\n",
       "      <td>5.921578</td>\n",
       "      <td>5.765504</td>\n",
       "      <td>8.715224</td>\n",
       "      <td>7.829630</td>\n",
       "    </tr>\n",
       "  </tbody>\n",
       "</table>\n",
       "</div>"
      ],
      "text/plain": [
       "   price  assess  bdrms  lotsize  sqrft  colonial    lprice   lassess  \\\n",
       "0  300.0   349.1      4     6126   2438         1  5.703783  5.855359   \n",
       "1  370.0   351.5      3     9903   2076         1  5.913503  5.862210   \n",
       "2  191.0   217.7      3     5200   1374         0  5.252274  5.383118   \n",
       "3  195.0   231.8      3     4600   1448         1  5.273000  5.445875   \n",
       "4  373.0   319.1      4     6095   2514         1  5.921578  5.765504   \n",
       "\n",
       "   llotsize    lsqrft  \n",
       "0  8.720297  7.798934  \n",
       "1  9.200593  7.638198  \n",
       "2  8.556414  7.225482  \n",
       "3  8.433811  7.277938  \n",
       "4  8.715224  7.829630  "
      ]
     },
     "execution_count": 146,
     "metadata": {},
     "output_type": "execute_result"
    }
   ],
   "source": [
    "df.head()\n",
    "\n",
    "#Showing the first five columns of data"
   ]
  },
  {
   "cell_type": "code",
   "execution_count": 4,
   "id": "71c4e7c8",
   "metadata": {},
   "outputs": [
    {
     "name": "stdout",
     "output_type": "stream",
     "text": [
      "<class 'pandas.core.frame.DataFrame'>\n",
      "RangeIndex: 88 entries, 0 to 87\n",
      "Data columns (total 10 columns):\n",
      " #   Column    Non-Null Count  Dtype  \n",
      "---  ------    --------------  -----  \n",
      " 0   price     88 non-null     float64\n",
      " 1   assess    88 non-null     float64\n",
      " 2   bdrms     88 non-null     int64  \n",
      " 3   lotsize   88 non-null     int64  \n",
      " 4   sqrft     88 non-null     int64  \n",
      " 5   colonial  88 non-null     int64  \n",
      " 6   lprice    88 non-null     float64\n",
      " 7   lassess   88 non-null     float64\n",
      " 8   llotsize  88 non-null     float64\n",
      " 9   lsqrft    88 non-null     float64\n",
      "dtypes: float64(6), int64(4)\n",
      "memory usage: 7.0 KB\n"
     ]
    }
   ],
   "source": [
    "df.info()\n",
    "\n",
    "#Understanding the variables of each column in data"
   ]
  },
  {
   "cell_type": "code",
   "execution_count": 5,
   "id": "738f4481",
   "metadata": {},
   "outputs": [
    {
     "data": {
      "text/plain": [
       "price       0\n",
       "assess      0\n",
       "bdrms       0\n",
       "lotsize     0\n",
       "sqrft       0\n",
       "colonial    0\n",
       "lprice      0\n",
       "lassess     0\n",
       "llotsize    0\n",
       "lsqrft      0\n",
       "dtype: int64"
      ]
     },
     "execution_count": 5,
     "metadata": {},
     "output_type": "execute_result"
    }
   ],
   "source": [
    "df.isna().sum()\n",
    "\n",
    "#Checking whether the data has null values"
   ]
  },
  {
   "cell_type": "code",
   "execution_count": 6,
   "id": "794cb332",
   "metadata": {},
   "outputs": [
    {
     "data": {
      "text/html": [
       "<div>\n",
       "<style scoped>\n",
       "    .dataframe tbody tr th:only-of-type {\n",
       "        vertical-align: middle;\n",
       "    }\n",
       "\n",
       "    .dataframe tbody tr th {\n",
       "        vertical-align: top;\n",
       "    }\n",
       "\n",
       "    .dataframe thead th {\n",
       "        text-align: right;\n",
       "    }\n",
       "</style>\n",
       "<table border=\"1\" class=\"dataframe\">\n",
       "  <thead>\n",
       "    <tr style=\"text-align: right;\">\n",
       "      <th></th>\n",
       "      <th>count</th>\n",
       "      <th>mean</th>\n",
       "      <th>std</th>\n",
       "      <th>min</th>\n",
       "      <th>25%</th>\n",
       "      <th>50%</th>\n",
       "      <th>75%</th>\n",
       "      <th>max</th>\n",
       "    </tr>\n",
       "  </thead>\n",
       "  <tbody>\n",
       "    <tr>\n",
       "      <th>price</th>\n",
       "      <td>88.0</td>\n",
       "      <td>293.546034</td>\n",
       "      <td>102.713445</td>\n",
       "      <td>111.000000</td>\n",
       "      <td>230.000000</td>\n",
       "      <td>265.500000</td>\n",
       "      <td>326.250000</td>\n",
       "      <td>725.000000</td>\n",
       "    </tr>\n",
       "    <tr>\n",
       "      <th>assess</th>\n",
       "      <td>88.0</td>\n",
       "      <td>315.736364</td>\n",
       "      <td>95.314437</td>\n",
       "      <td>198.700000</td>\n",
       "      <td>253.900000</td>\n",
       "      <td>290.200000</td>\n",
       "      <td>352.125000</td>\n",
       "      <td>708.600000</td>\n",
       "    </tr>\n",
       "    <tr>\n",
       "      <th>bdrms</th>\n",
       "      <td>88.0</td>\n",
       "      <td>3.568182</td>\n",
       "      <td>0.841393</td>\n",
       "      <td>2.000000</td>\n",
       "      <td>3.000000</td>\n",
       "      <td>3.000000</td>\n",
       "      <td>4.000000</td>\n",
       "      <td>7.000000</td>\n",
       "    </tr>\n",
       "    <tr>\n",
       "      <th>lotsize</th>\n",
       "      <td>88.0</td>\n",
       "      <td>9019.863636</td>\n",
       "      <td>10174.150414</td>\n",
       "      <td>1000.000000</td>\n",
       "      <td>5732.750000</td>\n",
       "      <td>6430.000000</td>\n",
       "      <td>8583.250000</td>\n",
       "      <td>92681.000000</td>\n",
       "    </tr>\n",
       "    <tr>\n",
       "      <th>sqrft</th>\n",
       "      <td>88.0</td>\n",
       "      <td>2013.693182</td>\n",
       "      <td>577.191583</td>\n",
       "      <td>1171.000000</td>\n",
       "      <td>1660.500000</td>\n",
       "      <td>1845.000000</td>\n",
       "      <td>2227.000000</td>\n",
       "      <td>3880.000000</td>\n",
       "    </tr>\n",
       "    <tr>\n",
       "      <th>colonial</th>\n",
       "      <td>88.0</td>\n",
       "      <td>0.693182</td>\n",
       "      <td>0.463816</td>\n",
       "      <td>0.000000</td>\n",
       "      <td>0.000000</td>\n",
       "      <td>1.000000</td>\n",
       "      <td>1.000000</td>\n",
       "      <td>1.000000</td>\n",
       "    </tr>\n",
       "    <tr>\n",
       "      <th>lprice</th>\n",
       "      <td>88.0</td>\n",
       "      <td>5.633180</td>\n",
       "      <td>0.303573</td>\n",
       "      <td>4.709530</td>\n",
       "      <td>5.438079</td>\n",
       "      <td>5.581613</td>\n",
       "      <td>5.787642</td>\n",
       "      <td>6.586172</td>\n",
       "    </tr>\n",
       "    <tr>\n",
       "      <th>lassess</th>\n",
       "      <td>88.0</td>\n",
       "      <td>5.717994</td>\n",
       "      <td>0.262113</td>\n",
       "      <td>5.291796</td>\n",
       "      <td>5.536940</td>\n",
       "      <td>5.670566</td>\n",
       "      <td>5.863982</td>\n",
       "      <td>6.563291</td>\n",
       "    </tr>\n",
       "    <tr>\n",
       "      <th>llotsize</th>\n",
       "      <td>88.0</td>\n",
       "      <td>8.905105</td>\n",
       "      <td>0.544060</td>\n",
       "      <td>6.907755</td>\n",
       "      <td>8.653908</td>\n",
       "      <td>8.768719</td>\n",
       "      <td>9.057567</td>\n",
       "      <td>11.436920</td>\n",
       "    </tr>\n",
       "    <tr>\n",
       "      <th>lsqrft</th>\n",
       "      <td>88.0</td>\n",
       "      <td>7.572610</td>\n",
       "      <td>0.258688</td>\n",
       "      <td>7.065613</td>\n",
       "      <td>7.414873</td>\n",
       "      <td>7.520231</td>\n",
       "      <td>7.708266</td>\n",
       "      <td>8.263591</td>\n",
       "    </tr>\n",
       "  </tbody>\n",
       "</table>\n",
       "</div>"
      ],
      "text/plain": [
       "          count         mean           std          min          25%  \\\n",
       "price      88.0   293.546034    102.713445   111.000000   230.000000   \n",
       "assess     88.0   315.736364     95.314437   198.700000   253.900000   \n",
       "bdrms      88.0     3.568182      0.841393     2.000000     3.000000   \n",
       "lotsize    88.0  9019.863636  10174.150414  1000.000000  5732.750000   \n",
       "sqrft      88.0  2013.693182    577.191583  1171.000000  1660.500000   \n",
       "colonial   88.0     0.693182      0.463816     0.000000     0.000000   \n",
       "lprice     88.0     5.633180      0.303573     4.709530     5.438079   \n",
       "lassess    88.0     5.717994      0.262113     5.291796     5.536940   \n",
       "llotsize   88.0     8.905105      0.544060     6.907755     8.653908   \n",
       "lsqrft     88.0     7.572610      0.258688     7.065613     7.414873   \n",
       "\n",
       "                  50%          75%           max  \n",
       "price      265.500000   326.250000    725.000000  \n",
       "assess     290.200000   352.125000    708.600000  \n",
       "bdrms        3.000000     4.000000      7.000000  \n",
       "lotsize   6430.000000  8583.250000  92681.000000  \n",
       "sqrft     1845.000000  2227.000000   3880.000000  \n",
       "colonial     1.000000     1.000000      1.000000  \n",
       "lprice       5.581613     5.787642      6.586172  \n",
       "lassess      5.670566     5.863982      6.563291  \n",
       "llotsize     8.768719     9.057567     11.436920  \n",
       "lsqrft       7.520231     7.708266      8.263591  "
      ]
     },
     "execution_count": 6,
     "metadata": {},
     "output_type": "execute_result"
    }
   ],
   "source": [
    "df.describe().T\n",
    "\n",
    "#Understanding about the count, mean, standard deviation, minimum, maximum and the quartile values for all numeric columns of the data\n"
   ]
  },
  {
   "cell_type": "code",
   "execution_count": null,
   "id": "4bdbafd8",
   "metadata": {},
   "outputs": [],
   "source": []
  },
  {
   "cell_type": "code",
   "execution_count": 9,
   "id": "7b940814",
   "metadata": {},
   "outputs": [
    {
     "data": {
      "text/plain": [
       "<AxesSubplot:xlabel='price'>"
      ]
     },
     "execution_count": 9,
     "metadata": {},
     "output_type": "execute_result"
    },
    {
     "data": {
      "image/png": "[encoded data removed]",
      "text/plain": [
       "<Figure size 640x480 with 1 Axes>"
      ]
     },
     "metadata": {},
     "output_type": "display_data"
    }
   ],
   "source": [
    "sns.boxplot(x=df.price)\n",
    "\n",
    "#Creating boxplot for target variable 'price'"
   ]
  },
  {
   "cell_type": "code",
   "execution_count": 15,
   "id": "d136ad0e",
   "metadata": {},
   "outputs": [
    {
     "data": {
      "image/png": "[encoded data removed]",
      "text/plain": [
       "<Figure size 640x480 with 1 Axes>"
      ]
     },
     "metadata": {},
     "output_type": "display_data"
    }
   ],
   "source": [
    "plt.hist(df['price'], bins = 15, edgecolor='black')\n",
    "plt.title('A Histogram of price')\n",
    "\n",
    "plt.show()"
   ]
  },
  {
   "cell_type": "code",
   "execution_count": 18,
   "id": "ee66d296",
   "metadata": {},
   "outputs": [
    {
     "data": {
      "image/png": "[encoded data removed]",
      "text/plain": [
       "<Figure size 640x480 with 1 Axes>"
      ]
     },
     "metadata": {},
     "output_type": "display_data"
    }
   ],
   "source": [
    "col_price = df[df['colonial'] == '0']\n",
    "col_price2 = df[df['colonial'] == '1']\n",
    "sns.boxplot(x='colonial', y='price', data=df, palette='pastel', showfliers=False)\n",
    "plt.title('Price by Colonial')\n",
    "plt.xlabel('Colonial')\n",
    "plt.ylabel('Price')\n",
    "\n",
    "plt.show()"
   ]
  },
  {
   "cell_type": "code",
   "execution_count": 21,
   "id": "cfb1c1bb",
   "metadata": {},
   "outputs": [
    {
     "data": {
      "image/png": "[encoded data removed]",
      "text/plain": [
       "<Figure size 640x480 with 1 Axes>"
      ]
     },
     "metadata": {},
     "output_type": "display_data"
    }
   ],
   "source": [
    "y = df['price']\n",
    "plt.scatter(df['assess'],y, alpha = 0.4, color=\"red\")\n",
    "plt.title('A scatterplot of price and assessed value')\n",
    "plt.show()"
   ]
  },
  {
   "cell_type": "code",
   "execution_count": 24,
   "id": "ef65fbb0",
   "metadata": {},
   "outputs": [
    {
     "data": {
      "text/plain": [
       "<AxesSubplot:>"
      ]
     },
     "execution_count": 24,
     "metadata": {},
     "output_type": "execute_result"
    },
    {
     "data": {
      "image/png": "[encoded data removed]",
      "text/plain": [
       "<Figure size 640x480 with 2 Axes>"
      ]
     },
     "metadata": {},
     "output_type": "display_data"
    }
   ],
   "source": [
    "sns.heatmap(df.corr(),annot=True)"
   ]
  },
  {
   "cell_type": "code",
   "execution_count": 25,
   "id": "bd40ff33",
   "metadata": {},
   "outputs": [
    {
     "data": {
      "text/plain": [
       "price       1.000000\n",
       "lprice      0.966501\n",
       "assess      0.905279\n",
       "lassess     0.873144\n",
       "sqrft       0.787907\n",
       "lsqrft      0.750303\n",
       "llotsize    0.528780\n",
       "bdrms       0.508084\n",
       "lotsize     0.347124\n",
       "colonial    0.137946\n",
       "Name: price, dtype: float64"
      ]
     },
     "execution_count": 25,
     "metadata": {},
     "output_type": "execute_result"
    }
   ],
   "source": [
    "df.corr()['price'].sort_values(ascending=False)"
   ]
  },
  {
   "cell_type": "code",
   "execution_count": null,
   "id": "8e00718d",
   "metadata": {},
   "outputs": [],
   "source": [
    "The results suggest that the lprice, assess, lassess, sqrft, and lsqrft variables are the most strongly \n",
    "correlated with price, and could potentially be good predictors of the price variable in a linear regression model."
   ]
  },
  {
   "cell_type": "code",
   "execution_count": 28,
   "id": "3e572f99",
   "metadata": {
    "scrolled": true
   },
   "outputs": [
    {
     "name": "stdout",
     "output_type": "stream",
     "text": [
      "                            OLS Regression Results                            \n",
      "==============================================================================\n",
      "Dep. Variable:                  price   R-squared:                       0.986\n",
      "Model:                            OLS   Adj. R-squared:                  0.984\n",
      "Method:                 Least Squares   F-statistic:                     602.2\n",
      "Date:                Sun, 12 Mar 2023   Prob (F-statistic):           3.10e-68\n",
      "Time:                        17:15:42   Log-Likelihood:                -344.74\n",
      "No. Observations:                  88   AIC:                             709.5\n",
      "Df Residuals:                      78   BIC:                             734.2\n",
      "Df Model:                           9                                         \n",
      "Covariance Type:            nonrobust                                         \n",
      "==============================================================================\n",
      "                 coef    std err          t      P>|t|      [0.025      0.975]\n",
      "------------------------------------------------------------------------------\n",
      "const        606.3669    246.442      2.460      0.016     115.738    1096.995\n",
      "assess         1.2330      0.097     12.704      0.000       1.040       1.426\n",
      "bdrms          2.6521      2.118      1.252      0.214      -1.565       6.869\n",
      "lotsize     3.452e-05      0.000      0.137      0.892      -0.000       0.001\n",
      "sqrft          0.0081      0.019      0.438      0.662      -0.029       0.045\n",
      "colonial      -0.4100      3.390     -0.121      0.904      -7.160       6.340\n",
      "lprice       276.0942     10.186     27.107      0.000     255.816     296.372\n",
      "lassess     -396.8194     38.182    -10.393      0.000    -472.833    -320.806\n",
      "llotsize       1.7548      5.791      0.303      0.763      -9.775      13.285\n",
      "lsqrft        -3.9532     41.502     -0.095      0.924     -86.578      78.671\n",
      "==============================================================================\n",
      "Omnibus:                       22.134   Durbin-Watson:                   1.948\n",
      "Prob(Omnibus):                  0.000   Jarque-Bera (JB):               86.126\n",
      "Skew:                           0.611   Prob(JB):                     1.99e-19\n",
      "Kurtosis:                       7.690   Cond. No.                     2.46e+06\n",
      "==============================================================================\n",
      "\n",
      "Notes:\n",
      "[1] Standard Errors assume that the covariance matrix of the errors is correctly specified.\n",
      "[2] The condition number is large, 2.46e+06. This might indicate that there are\n",
      "strong multicollinearity or other numerical problems.\n"
     ]
    }
   ],
   "source": [
    "X=df.drop('price',axis=1)\n",
    "y=df['price']\n",
    "\n",
    "import statsmodels.api as sm\n",
    "X=sm.add_constant(X)\n",
    "mod = sm.OLS(y,X)\n",
    "res = mod.fit()\n",
    "print(res.summary())"
   ]
  },
  {
   "cell_type": "code",
   "execution_count": null,
   "id": "e0ad1df5",
   "metadata": {},
   "outputs": [],
   "source": [
    "The model has a high R-squared value of 0.986, which indicates that the model fits the data well. \n",
    "However, some of the independent variables are not statistically significant, such as bdrms, lotsize, sqrft, colonial, \n",
    "llotsize, and lsqrft. Meanwhile, assess, lprice, and lassess have significant positive coefficients, which indicates that \n",
    "they have a strong positive impact on the housing prices."
   ]
  },
  {
   "cell_type": "code",
   "execution_count": 29,
   "id": "59e00f1f",
   "metadata": {},
   "outputs": [
    {
     "data": {
      "text/html": [
       "<table class=\"simpletable\">\n",
       "<caption>OLS Regression Results</caption>\n",
       "<tr>\n",
       "  <th>Dep. Variable:</th>          <td>price</td>      <th>  R-squared:         </th> <td>   0.831</td>\n",
       "</tr>\n",
       "<tr>\n",
       "  <th>Model:</th>                   <td>OLS</td>       <th>  Adj. R-squared:    </th> <td>   0.821</td>\n",
       "</tr>\n",
       "<tr>\n",
       "  <th>Method:</th>             <td>Least Squares</td>  <th>  F-statistic:       </th> <td>   80.56</td>\n",
       "</tr>\n",
       "<tr>\n",
       "  <th>Date:</th>             <td>Sun, 12 Mar 2023</td> <th>  Prob (F-statistic):</th> <td>3.59e-30</td>\n",
       "</tr>\n",
       "<tr>\n",
       "  <th>Time:</th>                 <td>17:19:48</td>     <th>  Log-Likelihood:    </th> <td> -453.78</td>\n",
       "</tr>\n",
       "<tr>\n",
       "  <th>No. Observations:</th>      <td>    88</td>      <th>  AIC:               </th> <td>   919.6</td>\n",
       "</tr>\n",
       "<tr>\n",
       "  <th>Df Residuals:</th>          <td>    82</td>      <th>  BIC:               </th> <td>   934.4</td>\n",
       "</tr>\n",
       "<tr>\n",
       "  <th>Df Model:</th>              <td>     5</td>      <th>                     </th>     <td> </td>   \n",
       "</tr>\n",
       "<tr>\n",
       "  <th>Covariance Type:</th>      <td>nonrobust</td>    <th>                     </th>     <td> </td>   \n",
       "</tr>\n",
       "</table>\n",
       "<table class=\"simpletable\">\n",
       "<tr>\n",
       "      <td></td>         <th>coef</th>     <th>std err</th>      <th>t</th>      <th>P>|t|</th>  <th>[0.025</th>    <th>0.975]</th>  \n",
       "</tr>\n",
       "<tr>\n",
       "  <th>Intercept</th> <td>  -40.4477</td> <td>   21.594</td> <td>   -1.873</td> <td> 0.065</td> <td>  -83.405</td> <td>    2.510</td>\n",
       "</tr>\n",
       "<tr>\n",
       "  <th>assess</th>    <td>    0.9041</td> <td>    0.104</td> <td>    8.671</td> <td> 0.000</td> <td>    0.697</td> <td>    1.112</td>\n",
       "</tr>\n",
       "<tr>\n",
       "  <th>bdrms</th>     <td>    9.6303</td> <td>    6.916</td> <td>    1.392</td> <td> 0.168</td> <td>   -4.128</td> <td>   23.389</td>\n",
       "</tr>\n",
       "<tr>\n",
       "  <th>lotsize</th>   <td>    0.0006</td> <td>    0.000</td> <td>    1.206</td> <td> 0.231</td> <td>   -0.000</td> <td>    0.002</td>\n",
       "</tr>\n",
       "<tr>\n",
       "  <th>sqrft</th>     <td>    0.0011</td> <td>    0.017</td> <td>    0.062</td> <td> 0.950</td> <td>   -0.033</td> <td>    0.035</td>\n",
       "</tr>\n",
       "<tr>\n",
       "  <th>colonial</th>  <td>    9.5476</td> <td>   10.647</td> <td>    0.897</td> <td> 0.372</td> <td>  -11.633</td> <td>   30.729</td>\n",
       "</tr>\n",
       "</table>\n",
       "<table class=\"simpletable\">\n",
       "<tr>\n",
       "  <th>Omnibus:</th>       <td>30.541</td> <th>  Durbin-Watson:     </th> <td>   2.118</td>\n",
       "</tr>\n",
       "<tr>\n",
       "  <th>Prob(Omnibus):</th> <td> 0.000</td> <th>  Jarque-Bera (JB):  </th> <td> 115.391</td>\n",
       "</tr>\n",
       "<tr>\n",
       "  <th>Skew:</th>          <td> 0.989</td> <th>  Prob(JB):          </th> <td>8.77e-26</td>\n",
       "</tr>\n",
       "<tr>\n",
       "  <th>Kurtosis:</th>      <td> 8.250</td> <th>  Cond. No.          </th> <td>6.45e+04</td>\n",
       "</tr>\n",
       "</table><br/><br/>Notes:<br/>[1] Standard Errors assume that the covariance matrix of the errors is correctly specified.<br/>[2] The condition number is large, 6.45e+04. This might indicate that there are<br/>strong multicollinearity or other numerical problems."
      ],
      "text/plain": [
       "<class 'statsmodels.iolib.summary.Summary'>\n",
       "\"\"\"\n",
       "                            OLS Regression Results                            \n",
       "==============================================================================\n",
       "Dep. Variable:                  price   R-squared:                       0.831\n",
       "Model:                            OLS   Adj. R-squared:                  0.821\n",
       "Method:                 Least Squares   F-statistic:                     80.56\n",
       "Date:                Sun, 12 Mar 2023   Prob (F-statistic):           3.59e-30\n",
       "Time:                        17:19:48   Log-Likelihood:                -453.78\n",
       "No. Observations:                  88   AIC:                             919.6\n",
       "Df Residuals:                      82   BIC:                             934.4\n",
       "Df Model:                           5                                         \n",
       "Covariance Type:            nonrobust                                         \n",
       "==============================================================================\n",
       "                 coef    std err          t      P>|t|      [0.025      0.975]\n",
       "------------------------------------------------------------------------------\n",
       "Intercept    -40.4477     21.594     -1.873      0.065     -83.405       2.510\n",
       "assess         0.9041      0.104      8.671      0.000       0.697       1.112\n",
       "bdrms          9.6303      6.916      1.392      0.168      -4.128      23.389\n",
       "lotsize        0.0006      0.000      1.206      0.231      -0.000       0.002\n",
       "sqrft          0.0011      0.017      0.062      0.950      -0.033       0.035\n",
       "colonial       9.5476     10.647      0.897      0.372     -11.633      30.729\n",
       "==============================================================================\n",
       "Omnibus:                       30.541   Durbin-Watson:                   2.118\n",
       "Prob(Omnibus):                  0.000   Jarque-Bera (JB):              115.391\n",
       "Skew:                           0.989   Prob(JB):                     8.77e-26\n",
       "Kurtosis:                       8.250   Cond. No.                     6.45e+04\n",
       "==============================================================================\n",
       "\n",
       "Notes:\n",
       "[1] Standard Errors assume that the covariance matrix of the errors is correctly specified.\n",
       "[2] The condition number is large, 6.45e+04. This might indicate that there are\n",
       "strong multicollinearity or other numerical problems.\n",
       "\"\"\""
      ]
     },
     "execution_count": 29,
     "metadata": {},
     "output_type": "execute_result"
    }
   ],
   "source": [
    "#Perfoming multiple linear regression using the ordinary least squares (OLS) with the independent variables: assess, bdrms, lotsize, sqrft, and colonial, \n",
    "# and the dependent variable is price.\n",
    "\n",
    "import statsmodels.formula.api as smf\n",
    "mod = smf.ols('price~assess+bdrms+lotsize+sqrft+colonial',df)\n",
    "res = mod.fit()\n",
    "res.summary()"
   ]
  },
  {
   "cell_type": "code",
   "execution_count": null,
   "id": "07406eab",
   "metadata": {},
   "outputs": [],
   "source": [
    "The summary shows the results of a linear regression model where the dependent variable is 'price' \n",
    "and the independent variables are 'assess', 'bdrms', 'lotsize', 'sqrft', and 'colonial'. \n",
    "The coefficients for 'assess' and 'colonial' are statistically significant at the 0.05 level, while the \n",
    "coefficients for 'bdrms', 'lotsize', and 'sqrft' are not statistically significant."
   ]
  },
  {
   "cell_type": "code",
   "execution_count": 33,
   "id": "25588184",
   "metadata": {},
   "outputs": [
    {
     "data": {
      "text/plain": [
       "0.9858124019908473"
      ]
     },
     "execution_count": 33,
     "metadata": {},
     "output_type": "execute_result"
    }
   ],
   "source": [
    "reg0 = LinearRegression().fit(X, y)\n",
    "reg0.score(X, y)"
   ]
  },
  {
   "cell_type": "code",
   "execution_count": null,
   "id": "6586709e",
   "metadata": {},
   "outputs": [],
   "source": [
    "The linear regression model using features X has a high level of accuracy in predicting the target variable y, \n",
    "with a score of 0.986."
   ]
  },
  {
   "cell_type": "code",
   "execution_count": 34,
   "id": "faa72f3d",
   "metadata": {},
   "outputs": [
    {
     "data": {
      "text/plain": [
       "array([ 0.00000000e+00,  1.23304328e+00,  2.65206573e+00,  3.45239232e-05,\n",
       "        8.14632004e-03, -4.10046110e-01,  2.76094173e+02, -3.96819396e+02,\n",
       "        1.75482492e+00, -3.95321970e+00])"
      ]
     },
     "execution_count": 34,
     "metadata": {},
     "output_type": "execute_result"
    }
   ],
   "source": [
    "reg0.coef_"
   ]
  },
  {
   "cell_type": "code",
   "execution_count": 35,
   "id": "e079874e",
   "metadata": {},
   "outputs": [
    {
     "data": {
      "text/plain": [
       "606.3668534382883"
      ]
     },
     "execution_count": 35,
     "metadata": {},
     "output_type": "execute_result"
    }
   ],
   "source": [
    "#Finding the gives the intercept of the linear regression line.\n",
    "\n",
    "reg0.intercept_"
   ]
  },
  {
   "cell_type": "markdown",
   "id": "750daef9",
   "metadata": {},
   "source": [
    "reg0.predict(df)\n",
    "\n",
    "#Finding the predicted values for the dependent variable based on the independent variables in df."
   ]
  },
  {
   "cell_type": "markdown",
   "id": "b848a72c",
   "metadata": {},
   "source": [
    "# stepwise selection"
   ]
  },
  {
   "cell_type": "code",
   "execution_count": 40,
   "id": "d10cfbe9",
   "metadata": {},
   "outputs": [],
   "source": [
    "df2=df[['assess','bdrms','lotsize','sqrft','colonial']]\n",
    "\n",
    "#Making second dataset with just assessed values, bedrooms, lot size, squarefoot and colonial values"
   ]
  },
  {
   "cell_type": "code",
   "execution_count": 42,
   "id": "99335b94",
   "metadata": {},
   "outputs": [],
   "source": [
    "from sklearn.feature_selection import RFE\n",
    "selector = RFE(LinearRegression(), n_features_to_select=3, step=1)\n",
    "selector = selector.fit(df2, df.lprice)\n",
    "\n",
    "#Finding the top 3 features from the input data (df2) that are most important in predicting the target variable\n",
    "#for lprice and eliminating the least important ones one at a time. "
   ]
  },
  {
   "cell_type": "code",
   "execution_count": 43,
   "id": "8a114c8e",
   "metadata": {},
   "outputs": [
    {
     "data": {
      "text/plain": [
       "array([ True,  True, False, False,  True])"
      ]
     },
     "execution_count": 43,
     "metadata": {},
     "output_type": "execute_result"
    }
   ],
   "source": [
    "selector.support_"
   ]
  },
  {
   "cell_type": "code",
   "execution_count": null,
   "id": "3e3921b1",
   "metadata": {},
   "outputs": [],
   "source": [
    "We understand from this that assessed value, bedrooms and colonial are selected feature to predicting the price"
   ]
  },
  {
   "cell_type": "code",
   "execution_count": 44,
   "id": "94f54ae2",
   "metadata": {},
   "outputs": [
    {
     "data": {
      "text/plain": [
       "array([1, 1, 3, 2, 1])"
      ]
     },
     "execution_count": 44,
     "metadata": {},
     "output_type": "execute_result"
    }
   ],
   "source": [
    "selector.ranking_"
   ]
  },
  {
   "cell_type": "code",
   "execution_count": null,
   "id": "aa12c0f4",
   "metadata": {},
   "outputs": [],
   "source": [
    "Understanding the ranking of the feature, where assessed value, bedrooms and colonial are ranked = 1 which states its\n",
    "importance while lot size has ranking of 3 and squarefoot has ranking of 2 stating it isnt as important. "
   ]
  },
  {
   "cell_type": "code",
   "execution_count": 45,
   "id": "1c4f267c",
   "metadata": {},
   "outputs": [
    {
     "data": {
      "text/plain": [
       "0.7660486272967826"
      ]
     },
     "execution_count": 45,
     "metadata": {},
     "output_type": "execute_result"
    }
   ],
   "source": [
    "selector.score(df2,df.lprice)"
   ]
  },
  {
   "cell_type": "code",
   "execution_count": 46,
   "id": "ea0655f7",
   "metadata": {},
   "outputs": [],
   "source": [
    "selector = RFE(LinearRegression(), n_features_to_select=3, step=1)\n",
    "selector = selector.fit(X, y)\n",
    "\n",
    "#Now doing the same thing with the previous data including all columns. "
   ]
  },
  {
   "cell_type": "code",
   "execution_count": 47,
   "id": "85868e6b",
   "metadata": {},
   "outputs": [
    {
     "data": {
      "text/plain": [
       "array([False, False, False, False, False, False,  True,  True, False,\n",
       "        True])"
      ]
     },
     "execution_count": 47,
     "metadata": {},
     "output_type": "execute_result"
    }
   ],
   "source": [
    "selector.support_"
   ]
  },
  {
   "cell_type": "code",
   "execution_count": null,
   "id": "bf7340ce",
   "metadata": {},
   "outputs": [],
   "source": [
    "We understand from this that lprice, lasses and lsqrft important."
   ]
  },
  {
   "cell_type": "code",
   "execution_count": 49,
   "id": "93ecbf0e",
   "metadata": {},
   "outputs": [
    {
     "data": {
      "text/plain": [
       "array([8, 4, 3, 7, 6, 5, 1, 1, 2, 1])"
      ]
     },
     "execution_count": 49,
     "metadata": {},
     "output_type": "execute_result"
    }
   ],
   "source": [
    "selector.ranking_"
   ]
  },
  {
   "cell_type": "code",
   "execution_count": 48,
   "id": "869d6385",
   "metadata": {},
   "outputs": [
    {
     "data": {
      "text/plain": [
       "0.9375091405388294"
      ]
     },
     "execution_count": 48,
     "metadata": {},
     "output_type": "execute_result"
    }
   ],
   "source": [
    "selector.score(X,y)"
   ]
  },
  {
   "cell_type": "code",
   "execution_count": null,
   "id": "0b9bc77d",
   "metadata": {},
   "outputs": [],
   "source": [
    "The score of the feature selection model on the X and y data is 0.9375, \n",
    "indicating a relatively high level of accuracy in predicting the target variable."
   ]
  },
  {
   "cell_type": "code",
   "execution_count": 50,
   "id": "4c9a44f0",
   "metadata": {},
   "outputs": [
    {
     "data": {
      "text/plain": [
       "KNeighborsRegressor(n_neighbors=2)"
      ]
     },
     "execution_count": 50,
     "metadata": {},
     "output_type": "execute_result"
    }
   ],
   "source": [
    "from sklearn.neighbors import KNeighborsRegressor\n",
    "neigh = KNeighborsRegressor(n_neighbors=2)\n",
    "neigh.fit(X,y)"
   ]
  },
  {
   "cell_type": "code",
   "execution_count": null,
   "id": "d929c908",
   "metadata": {},
   "outputs": [],
   "source": [
    "Creating an instance of the KNeighborsRegressor object with n_neighbors set to 2 that fits the model to the data X and y"
   ]
  },
  {
   "cell_type": "code",
   "execution_count": 51,
   "id": "abf9e6a5",
   "metadata": {},
   "outputs": [
    {
     "data": {
      "text/plain": [
       "0.8338112212004906"
      ]
     },
     "execution_count": 51,
     "metadata": {},
     "output_type": "execute_result"
    }
   ],
   "source": [
    "neigh.score(X,y)"
   ]
  },
  {
   "cell_type": "code",
   "execution_count": null,
   "id": "e387d8fc",
   "metadata": {},
   "outputs": [],
   "source": [
    "Understanding the R-squared of the prediction which is 0.8338\n",
    "indicating that the model explains 83.38% of the variability in the target variable."
   ]
  },
  {
   "cell_type": "code",
   "execution_count": 52,
   "id": "a8a4bb62",
   "metadata": {},
   "outputs": [
    {
     "data": {
      "text/plain": [
       "[1.0,\n",
       " 0.8338112212004906,\n",
       " 0.6857950391066585,\n",
       " 0.6233839103125922,\n",
       " 0.5962037029478449,\n",
       " 0.5859310606116208,\n",
       " 0.523239569457552,\n",
       " 0.49725578509547674,\n",
       " 0.47008490633225264]"
      ]
     },
     "execution_count": 52,
     "metadata": {},
     "output_type": "execute_result"
    }
   ],
   "source": [
    "models = [KNeighborsRegressor(n_neighbors=i) for i in range(1,10)]\n",
    "[model.fit(X,y).score(X,y) for model in models]"
   ]
  },
  {
   "cell_type": "code",
   "execution_count": null,
   "id": "2258b948",
   "metadata": {},
   "outputs": [],
   "source": [
    "The results show that the model with one neighbor has a perfect score of 1, while the scores decrease as the number of neighbors\n",
    "increases, indicating that the model with one neighbor is likely overfitting the data."
   ]
  },
  {
   "cell_type": "markdown",
   "id": "c89b5114",
   "metadata": {},
   "source": [
    "# Lasso Regression"
   ]
  },
  {
   "cell_type": "code",
   "execution_count": 56,
   "id": "25f8f380",
   "metadata": {},
   "outputs": [
    {
     "data": {
      "text/plain": [
       "Lasso(alpha=0.1)"
      ]
     },
     "execution_count": 56,
     "metadata": {},
     "output_type": "execute_result"
    }
   ],
   "source": [
    "clf = linear_model.Lasso(alpha=0.1)\n",
    "clf.fit(X, y)"
   ]
  },
  {
   "cell_type": "code",
   "execution_count": 57,
   "id": "93c7eb7d",
   "metadata": {},
   "outputs": [
    {
     "data": {
      "text/plain": [
       "array([ 0.00000000e+00,  1.12893685e+00,  3.05007801e+00,  1.20151390e-04,\n",
       "        4.47031997e-03, -4.47432559e-01,  2.67458869e+02, -3.45323034e+02,\n",
       "        0.00000000e+00, -0.00000000e+00])"
      ]
     },
     "execution_count": 57,
     "metadata": {},
     "output_type": "execute_result"
    }
   ],
   "source": [
    "clf.coef_"
   ]
  },
  {
   "cell_type": "code",
   "execution_count": 62,
   "id": "c9680409",
   "metadata": {},
   "outputs": [
    {
     "data": {
      "text/plain": [
       "384.3518319220508"
      ]
     },
     "execution_count": 62,
     "metadata": {},
     "output_type": "execute_result"
    }
   ],
   "source": [
    "clf.intercept_"
   ]
  },
  {
   "cell_type": "code",
   "execution_count": null,
   "id": "e0008798",
   "metadata": {},
   "outputs": [],
   "source": [
    "Understanding the Coefficients as it shows coefficients of 10 features where first and \n",
    "last two coefficients are zero. Second to ninth coefficients indicate the direction and magnitude of relationship \n",
    "between each feature and target variable."
   ]
  },
  {
   "cell_type": "code",
   "execution_count": 59,
   "id": "b03b5b3b",
   "metadata": {},
   "outputs": [
    {
     "data": {
      "text/plain": [
       "617.4129409632736"
      ]
     },
     "execution_count": 59,
     "metadata": {},
     "output_type": "execute_result"
    }
   ],
   "source": [
    "np.abs(clf.coef_).sum()"
   ]
  },
  {
   "cell_type": "code",
   "execution_count": null,
   "id": "5bcf2946",
   "metadata": {},
   "outputs": [],
   "source": [
    "Calculating the sum of the absolute values of the coefficients of the logistic regression model."
   ]
  },
  {
   "cell_type": "code",
   "execution_count": 60,
   "id": "b374b0a5",
   "metadata": {},
   "outputs": [
    {
     "data": {
      "text/plain": [
       "LinearRegression()"
      ]
     },
     "execution_count": 60,
     "metadata": {},
     "output_type": "execute_result"
    }
   ],
   "source": [
    "lm = linear_model.LinearRegression()\n",
    "lm.fit(X,y)"
   ]
  },
  {
   "cell_type": "code",
   "execution_count": 61,
   "id": "26679451",
   "metadata": {},
   "outputs": [
    {
     "data": {
      "text/plain": [
       "array([ 0.00000000e+00,  1.23304328e+00,  2.65206573e+00,  3.45239232e-05,\n",
       "        8.14632004e-03, -4.10046110e-01,  2.76094173e+02, -3.96819396e+02,\n",
       "        1.75482492e+00, -3.95321970e+00])"
      ]
     },
     "execution_count": 61,
     "metadata": {},
     "output_type": "execute_result"
    }
   ],
   "source": [
    "lm.coef_"
   ]
  },
  {
   "cell_type": "code",
   "execution_count": null,
   "id": "d7c348bc",
   "metadata": {},
   "outputs": [],
   "source": [
    "The positive coefficient value indicates a positive correlation between the feature and the target variable, \n",
    "while a negative coefficient value indicates a negative correlation for the 10 features in the dataset"
   ]
  },
  {
   "cell_type": "code",
   "execution_count": 63,
   "id": "11ae212b",
   "metadata": {},
   "outputs": [
    {
     "data": {
      "text/plain": [
       "617.4129409632736"
      ]
     },
     "execution_count": 63,
     "metadata": {},
     "output_type": "execute_result"
    }
   ],
   "source": [
    "np.abs(clf.coef_).sum()"
   ]
  },
  {
   "cell_type": "code",
   "execution_count": null,
   "id": "d032adbe",
   "metadata": {},
   "outputs": [],
   "source": [
    "calculating the sum of the absolute values of the coefficients in the linear regression model."
   ]
  },
  {
   "cell_type": "code",
   "execution_count": 64,
   "id": "64790910",
   "metadata": {},
   "outputs": [
    {
     "data": {
      "text/plain": [
       "LinearRegression()"
      ]
     },
     "execution_count": 64,
     "metadata": {},
     "output_type": "execute_result"
    }
   ],
   "source": [
    "lm = linear_model.LinearRegression()\n",
    "lm.fit(X,y)"
   ]
  },
  {
   "cell_type": "code",
   "execution_count": 65,
   "id": "f609272d",
   "metadata": {},
   "outputs": [
    {
     "data": {
      "text/plain": [
       "array([ 0.00000000e+00,  1.23304328e+00,  2.65206573e+00,  3.45239232e-05,\n",
       "        8.14632004e-03, -4.10046110e-01,  2.76094173e+02, -3.96819396e+02,\n",
       "        1.75482492e+00, -3.95321970e+00])"
      ]
     },
     "execution_count": 65,
     "metadata": {},
     "output_type": "execute_result"
    }
   ],
   "source": [
    "lm.coef_"
   ]
  },
  {
   "cell_type": "code",
   "execution_count": 66,
   "id": "d3cf0adb",
   "metadata": {},
   "outputs": [
    {
     "data": {
      "text/plain": [
       "606.3668534382883"
      ]
     },
     "execution_count": 66,
     "metadata": {},
     "output_type": "execute_result"
    }
   ],
   "source": [
    "lm.intercept_"
   ]
  },
  {
   "cell_type": "code",
   "execution_count": 67,
   "id": "4437ec87",
   "metadata": {},
   "outputs": [
    {
     "data": {
      "text/plain": [
       "682.9249491982025"
      ]
     },
     "execution_count": 67,
     "metadata": {},
     "output_type": "execute_result"
    }
   ],
   "source": [
    "np.abs(lm.coef_).sum()"
   ]
  },
  {
   "cell_type": "code",
   "execution_count": 68,
   "id": "768029b0",
   "metadata": {},
   "outputs": [
    {
     "data": {
      "text/plain": [
       "array([302.82562346, 356.97641093, 194.57684333, 192.53143691,\n",
       "       362.110262  , 442.49958917, 329.32823913, 308.85363643,\n",
       "       208.42715824, 242.28309541, 286.73040142, 320.10364535,\n",
       "       409.10689694, 203.87895116, 266.31073784, 238.40403929,\n",
       "       238.07188022, 281.33048256, 267.71484807, 307.45439993,\n",
       "       264.45227367, 268.22084598, 217.1300216 , 138.64799817,\n",
       "       255.62128138, 273.56675403, 229.25937602, 336.93183263,\n",
       "       481.44158582, 344.5214447 , 248.99424592, 343.61383495,\n",
       "       267.48647449, 241.36730958, 352.94088903, 200.03337779,\n",
       "       380.91801527, 548.69987785, 200.25475309, 217.98341911,\n",
       "       243.24000335, 681.90038864, 249.37934447, 248.32959395,\n",
       "       366.81663641, 271.77501259, 309.7835882 , 437.1482557 ,\n",
       "       255.5552748 , 313.98853907, 260.85281136, 251.49695389,\n",
       "       233.3203139 , 178.36682812, 250.82186604, 250.11661127,\n",
       "       216.50497657, 258.76532854, 286.31969683, 315.51929204,\n",
       "       216.82401918, 265.84946958, 319.64833078, 469.20661862,\n",
       "       338.35439985, 507.87465261, 279.6756059 , 421.298844  ,\n",
       "       347.56291893, 215.46771757, 204.85400077, 243.05861085,\n",
       "       723.9350073 , 224.68141157, 310.70692458, 400.27368981,\n",
       "       322.14680915, 326.61937601, 247.80816854, 227.12500291,\n",
       "        57.53745753, 274.85568531, 243.1567524 , 290.40787492,\n",
       "       236.9841686 , 194.46330442, 221.52056969, 248.54810403])"
      ]
     },
     "execution_count": 68,
     "metadata": {},
     "output_type": "execute_result"
    }
   ],
   "source": [
    "lm.predict(X)"
   ]
  },
  {
   "cell_type": "code",
   "execution_count": null,
   "id": "307f2195",
   "metadata": {},
   "outputs": [],
   "source": [
    "Predicting the target variable values based on the X variable values."
   ]
  },
  {
   "cell_type": "code",
   "execution_count": 69,
   "id": "4463a72b",
   "metadata": {},
   "outputs": [
    {
     "data": {
      "text/plain": [
       "293.5460340909089"
      ]
     },
     "execution_count": 69,
     "metadata": {},
     "output_type": "execute_result"
    }
   ],
   "source": [
    "lm.predict(X).mean()"
   ]
  },
  {
   "cell_type": "code",
   "execution_count": 70,
   "id": "b110cd7e",
   "metadata": {},
   "outputs": [
    {
     "data": {
      "text/plain": [
       "LassoCV()"
      ]
     },
     "execution_count": 70,
     "metadata": {},
     "output_type": "execute_result"
    }
   ],
   "source": [
    "clf = linear_model.LassoCV()\n",
    "clf.fit(X,y)"
   ]
  },
  {
   "cell_type": "code",
   "execution_count": 71,
   "id": "25d817e7",
   "metadata": {},
   "outputs": [
    {
     "data": {
      "text/plain": [
       "array([ 0.        ,  0.76032278,  0.        ,  0.00087578,  0.02759866,\n",
       "        0.        ,  0.        ,  0.        ,  0.        , -0.        ])"
      ]
     },
     "execution_count": 71,
     "metadata": {},
     "output_type": "execute_result"
    }
   ],
   "source": [
    "clf.coef_"
   ]
  },
  {
   "cell_type": "markdown",
   "id": "a5169bb1",
   "metadata": {},
   "source": [
    "The array of coefficients returned shows that the first feature has a strong positive association with the target variable, \n",
    "while the third and fourth features have a weaker positive association. The other features have zero coefficients, indicating \n",
    "they have no effect on the target variable."
   ]
  },
  {
   "cell_type": "code",
   "execution_count": 72,
   "id": "f1bc5748",
   "metadata": {},
   "outputs": [
    {
     "data": {
      "text/plain": [
       "-9.990200875643438"
      ]
     },
     "execution_count": 72,
     "metadata": {},
     "output_type": "execute_result"
    }
   ],
   "source": [
    "clf.intercept_\n"
   ]
  },
  {
   "cell_type": "code",
   "execution_count": 73,
   "id": "8105ce6f",
   "metadata": {
    "scrolled": false
   },
   "outputs": [
    {
     "data": {
      "text/plain": [
       "array([[  5560.18993016,   5546.53215737,  18453.34181092,\n",
       "          6520.23316232,  16243.19825006],\n",
       "       [  5511.96774959,   5491.47024322,  18453.34181092,\n",
       "          6454.65030015,  16243.19825006],\n",
       "       [  5467.90223051,   5440.84006689,  18453.34181092,\n",
       "          6394.25917645,  16243.19825006],\n",
       "       [  5427.59513605,   5394.24906578,  18405.0006983 ,\n",
       "          6338.60937422,  16243.19825006],\n",
       "       [  5390.69045074,   5351.34336247,  18209.77346055,\n",
       "          6287.29392478,  16243.19825006],\n",
       "       [  5356.86953149,   5311.80356473,  18029.32181149,\n",
       "          6239.94467421,  15402.66068386],\n",
       "       [  5325.84684627,   5275.34105615,  17862.43918939,\n",
       "          6196.22818435,  15140.62193925],\n",
       "       [  5297.366227  ,   5241.69471713,  17708.02779938,\n",
       "          6155.84210309,  16057.17693403],\n",
       "       [  5271.19757239,   5210.62802382,  17565.0877077 ,\n",
       "          6118.51194738,  17921.67968694],\n",
       "       [  5247.13394463,   5181.92647907,  17432.7071367 ,\n",
       "          6083.98824918,  20538.72458991],\n",
       "       [  5224.98901116,   5155.39533521,  17310.05381884,\n",
       "          6052.04402082,  23743.20595255],\n",
       "       [  5204.59478866,   5130.85757357,  17196.36728576,\n",
       "          6022.47250179,  27396.04465908],\n",
       "       [  5185.79965211,   5108.15210999,  17090.95198337,\n",
       "          5995.08515347,  31380.49345421],\n",
       "       [  5168.46657623,   5087.13219935,  16993.17111746,\n",
       "          5969.70987269,  35598.94400681],\n",
       "       [  5152.47158092,   5067.66401555,  16902.44114585,\n",
       "          5946.18939835,  39970.16901012],\n",
       "       [  5137.70235578,   5049.62538633,  16818.22684336,\n",
       "          5924.37988873,  44426.94136365],\n",
       "       [  5124.05704198,   5032.90466466,  16740.03687466,\n",
       "          5904.14964973,  48913.98011772],\n",
       "       [  5111.44315245,   5017.39972099,  16667.41981799,\n",
       "          5885.3779966 ,  53386.17949666],\n",
       "       [  5099.77661374,   5003.01704219,  16599.96058957,\n",
       "          5867.95423402,  57807.08308236],\n",
       "       [  5088.98091498,   4989.67092511,  16537.27722424,\n",
       "          5851.77674122,  62147.57024927],\n",
       "       [  5078.9863512 ,   4977.28275383,  16479.01797345,\n",
       "          5836.75215007,  66384.72629422],\n",
       "       [  5069.72934978,   4965.78035125,  16424.85868611,\n",
       "          5822.79460608,  70500.8714853 ],\n",
       "       [  5061.15187034,   4955.09739661,  16374.50044181,\n",
       "          5809.82510299,  74482.72753841],\n",
       "       [  5053.20086939,   4945.17290156,  16327.66740963,\n",
       "          5797.77088287,  78320.70288261],\n",
       "       [  5045.82782216,   4935.95073848,  16284.10490857,\n",
       "          5786.56489472,  82008.28055312],\n",
       "       [  5038.98829516,   4927.37921509,  16243.57764874,\n",
       "          5776.14530525,  85541.49470204],\n",
       "       [  5032.64156354,   4919.41069056,  16205.86813444,\n",
       "          5766.45505616,  88918.48358515],\n",
       "       [  5026.75026811,   4912.00122856,  16170.77521268,\n",
       "          5757.4414632 ,  92139.1085049 ],\n",
       "       [  5021.28010764,   4905.11028323,  16138.11275236,\n",
       "          5749.05585256,  95204.62959753],\n",
       "       [  5016.19956241,   4898.70041478,  16107.70844104,\n",
       "          5728.37101566,  98117.43057447],\n",
       "       [  4564.32384389,   4445.01141347,  16079.40268767,\n",
       "          5315.46722397, 100880.78558822],\n",
       "       [  4174.99402581,   4055.34673908,  16053.04762089,\n",
       "          4954.65748124, 103498.6623134 ],\n",
       "       [  3846.24410247,   3723.65775303,  16028.5061736 ,\n",
       "          4639.27020508, 105975.55613167],\n",
       "       [  3569.51832392,   3441.90635999,  16005.65124562,\n",
       "          4363.49511325, 108316.35100149],\n",
       "       [  3337.42016521,   3203.13423759,  15984.36493702,\n",
       "          4122.27157189, 110526.20319422],\n",
       "       [  3143.55831421,   3001.3199833 ,  14838.77804761,\n",
       "          3911.1878365 , 112610.44459836],\n",
       "       [  2982.41292387,   2831.25163627,  13483.21751362,\n",
       "          3726.41130815, 114574.50274504],\n",
       "       [  2849.21947525,   2688.43260012,  12307.67448791,\n",
       "          3564.5921355 , 116423.83509856],\n",
       "       [  2739.86225426,   2568.96715117,  11288.468631  ,\n",
       "          3422.81490839, 117547.64114937],\n",
       "       [  2650.8095441 ,   2469.49324193,  10405.00911558,\n",
       "          3298.53890995, 111819.23914096],\n",
       "       [  2579.00366533,   2387.10831677,   9639.43291976,\n",
       "          3189.54965218, 106613.25826   ],\n",
       "       [  2521.81756958,   2319.30800797,   8976.18690694,\n",
       "          3093.91670124, 101877.99216449],\n",
       "       [  2476.99203764,   2263.9329149 ,   8401.7663531 ,\n",
       "          3009.95697462,  97566.10588305],\n",
       "       [  2442.58604019,   2219.12240662,   7904.43740767,\n",
       "          2936.20279903,  93635.48783498],\n",
       "       [  2416.93368082,   2183.27452697,   7474.00563547,\n",
       "          2871.37411017,  90048.63306279],\n",
       "       [  2398.60685592,   2155.01120167,   7101.61476023,\n",
       "          2814.35425622,  86775.45308357],\n",
       "       [  2386.38287958,   2133.14805132,   6779.57167228,\n",
       "          2764.16893673,  83779.1176524 ],\n",
       "       [  2379.21641981,   2116.66820545,   6501.19427609,\n",
       "          2719.96786975,  81036.61141251],\n",
       "       [  2376.21517828,   2104.69959183,   6260.6791995 ,\n",
       "          2681.00883272,  78524.06975905],\n",
       "       [  2376.61882004,   2096.49524403,   6052.98677476,\n",
       "          2646.64376897,  76220.11577176],\n",
       "       [  2379.78072424,   2091.41623   ,   5873.74103894,\n",
       "          2616.30669165,  74105.5788884 ],\n",
       "       [  2385.15218343,   2088.91685657,   5719.14279489,\n",
       "          2589.50315178,  72163.24648037],\n",
       "       [  2392.26872754,   2088.53184988,   5585.8940291 ,\n",
       "          2565.80106745,  70377.6451602 ],\n",
       "       [  2400.73829138,   2089.86525101,   5471.13220515,\n",
       "          2544.82273764,  68734.84812529],\n",
       "       [  2410.23098134,   2092.58080046,   5372.37314421,\n",
       "          2526.23788696,  67222.30531197],\n",
       "       [  2420.47022902,   2096.39361463,   5287.4613723 ,\n",
       "          2509.75760776,  65828.69354241],\n",
       "       [  2431.22514766,   2101.06298332,   5214.52695985,\n",
       "          2495.1290832 ,  64548.94412101],\n",
       "       [  2442.30393105,   2106.38613983,   5151.94800629,\n",
       "          2482.13099015,  63363.09728722],\n",
       "       [  2453.54815623,   2112.19287457,   5098.31803289,\n",
       "          2470.56949389,  62268.35153624],\n",
       "       [  2464.82786913,   2118.34088021,   5052.41764292,\n",
       "          2460.27475794,  61257.11602963],\n",
       "       [  2476.03734847,   2124.71173104,   5013.18989208,\n",
       "          2451.09790248,  60322.49537472],\n",
       "       [  2487.09145699,   2131.20741207,   4979.71888465,\n",
       "          2442.90835322,  59458.22393807],\n",
       "       [  2497.92250116,   2137.74732453,   4951.21117389,\n",
       "          2435.59153025,  58658.6019119 ],\n",
       "       [  2508.47753086,   2144.26570396,   4926.97960049,\n",
       "          2429.04683308,  57918.43848277],\n",
       "       [  2518.71601956,   2150.70939581,   4906.42925036,\n",
       "          2423.18588345,  57233.00126565],\n",
       "       [  2528.60787373,   2157.03594043,   4889.04525477,\n",
       "          2417.93099277,  56597.97126415],\n",
       "       [  2538.13172648,   2163.21192588,   4874.38219206,\n",
       "          2413.21382514,  56009.4027083 ],\n",
       "       [  2547.27347698,   2169.21157235,   4862.05488131,\n",
       "          2408.97423084,  55463.68720152],\n",
       "       [  2556.02504186,   2175.01551708,   4851.73038606,\n",
       "          2405.15922817,  54957.52167741],\n",
       "       [  2564.38328972,   2180.60977225,   4843.1210696 ,\n",
       "          2401.72211481,  54487.87972817],\n",
       "       [  2572.3491333 ,   2185.98483271,   4835.97856425,\n",
       "          2398.62169174,  54051.98591963],\n",
       "       [  2579.92675765,   2191.1349127 ,   4830.08853498,\n",
       "          2395.82158557,  53647.29275413],\n",
       "       [  2587.12296538,   2196.05729421,   4825.26613318,\n",
       "          2393.28599859,  53277.37003122],\n",
       "       [  2488.09748054,   2164.82014886,   4821.35205029,\n",
       "          2390.99733121,  52927.85436583],\n",
       "       [  2351.94668883,   2003.61535682,   4818.20909258,\n",
       "          2179.390088  ,  52603.0705963 ],\n",
       "       [  2234.64282945,   1861.55667061,   4815.71345984,\n",
       "          2005.35886876,  52301.2213843 ],\n",
       "       [  2133.66611949,   1736.2614671 ,   4555.45324483,\n",
       "          1870.28886556,  52020.62497702],\n",
       "       [  2046.70153383,   1625.66435193,   4284.23114035,\n",
       "          1767.92511254,  51759.73058565],\n",
       "       [  1971.97401901,   1527.92349014,   4045.24472857,\n",
       "          1693.04614483,  51517.10736335],\n",
       "       [  1907.80233277,   1441.49902446,   3834.49247762,\n",
       "          1641.11831593,  51291.43431301],\n",
       "       [  1852.75610622,   1365.01235132,   3648.49394295,\n",
       "          1608.26271087,  51081.49113638],\n",
       "       [  1805.59504362,   1297.25796498,   3484.07724621,\n",
       "          1591.16559687,  50886.14992754],\n",
       "       [  1765.2438831 ,   1237.1813863 ,   3338.77739488,\n",
       "          1587.00076752,  50704.36762411],\n",
       "       [  1730.77066603,   1183.85989525,   3210.20736752,\n",
       "          1593.36227385,  50535.17913943],\n",
       "       [  1701.36785259,   1136.48574574,   3096.33601068,\n",
       "          1608.2061712 ,  50377.69110736],\n",
       "       [  1676.34387122,   1094.35154142,   2995.38681621,\n",
       "          1629.80009057,  50231.07617889],\n",
       "       [  1655.07583176,   1056.8374925 ,   2905.83585835,\n",
       "          1656.67959907,  50094.56781638],\n",
       "       [  1637.04862034,   1023.41327469,   2826.25808877,\n",
       "          1687.61045063,  46385.05108913],\n",
       "       [  1621.80840635,    993.57512844,   2755.4963148 ,\n",
       "          1721.544869  ,  42269.49876798],\n",
       "       [  1608.96259785,    966.91943534,   2692.50668693,\n",
       "          1757.6370483 ,  38618.20319311],\n",
       "       [  1598.17173214,    943.07914443,   2636.3742397 ,\n",
       "          1795.15434312,  35374.06363881],\n",
       "       [  1589.14605474,    921.7317946 ,   2586.29662075,\n",
       "          1833.49823321,  32489.16949599],\n",
       "       [  1581.62425374,    902.60355133,   2541.56986512,\n",
       "          1872.17599905,  29919.8778542 ],\n",
       "       [  1575.39183778,    885.42493862,   2501.57599269,\n",
       "          1910.76969411,  27628.78469651],\n",
       "       [  1570.25999895,    869.98717881,   2465.78798898,\n",
       "          1948.98425238,  25584.41818917],\n",
       "       [  1566.06592192,    856.09701743,   2433.69553536,\n",
       "          1986.54334757,  23758.12867388],\n",
       "       [  1562.67103058,    843.58409542,   2404.89668052,\n",
       "          2023.24103845,  22124.76018785],\n",
       "       [  1559.95073968,    832.30547764,   2379.02220244,\n",
       "          2058.90016654,  20662.21439128],\n",
       "       [  1557.80323955,    822.11313989,   2355.74691518,\n",
       "          2093.43630436,  19351.06707564],\n",
       "       [  1556.13920306,    812.89794484,   2334.79631036,\n",
       "          2126.7436615 ,  18174.23361779]])"
      ]
     },
     "execution_count": 73,
     "metadata": {},
     "output_type": "execute_result"
    }
   ],
   "source": [
    "clf.mse_path_"
   ]
  },
  {
   "cell_type": "code",
   "execution_count": null,
   "id": "8e6014fd",
   "metadata": {},
   "outputs": [],
   "source": [
    "The mse_path_ attribute can be used to visualize the cross-validation process and select the best alpha value for the model. \n",
    "Typically, the alpha value with the lowest mean squared error across all folds is chosen as the best alpha value."
   ]
  },
  {
   "cell_type": "code",
   "execution_count": 74,
   "id": "a11ae470",
   "metadata": {},
   "outputs": [
    {
     "data": {
      "text/plain": [
       "array([10464.69906216, 10430.92567079, 10399.90830696, 10361.73050488,\n",
       "       10296.45988972, 10068.12005316,  9960.09544308, 10092.02155613,\n",
       "       10417.42098765, 10896.8960799 , 11497.13762771, 12190.06736177,\n",
       "       12952.09647063, 13763.48475451, 14607.78703016, 15471.37516757,\n",
       "       16343.02566975, 17213.56403694, 18075.55831238, 18923.05521096,\n",
       "       19751.35310455, 20556.8068957 , 21336.66047003, 22088.90298921,\n",
       "       22812.14578341, 23505.51703326, 24168.57180597, 24801.21533549,\n",
       "       25403.63771866, 25973.68200167, 26256.99815145, 26547.34163609,\n",
       "       26842.64687317, 27139.38440885, 27434.67882119, 27501.057756  ,\n",
       "       27519.55922539, 27566.75075947, 27513.55081884, 26128.6179905 ,\n",
       "       24881.67056281, 23757.84427004, 22743.75083266, 21827.5672977 ,\n",
       "       20998.84420324, 20249.00803152, 19568.47783846, 18950.73163672,\n",
       "       18389.33451228, 17878.57207591, 17413.36471465, 16989.19229341,\n",
       "       16602.02816683, 16248.28132209, 15924.74562499, 15628.55527322,\n",
       "       15358.17765901, 15109.17327091, 14880.59601876, 14670.59543596,\n",
       "       14477.50644976, 14299.830009  , 14136.21488835, 13985.44163023,\n",
       "       13846.40836297, 13718.11826517, 13599.66847557, 13490.2402726 ,\n",
       "       13389.09037012, 13295.54319491, 13208.98402833, 13128.852909  ,\n",
       "       13055.82048452, 12958.62427535, 12791.24636451, 12643.69864259,\n",
       "       12463.2589348 , 12296.85054486, 12151.05914918, 12023.26929276,\n",
       "       11911.20324955, 11812.84915584, 11726.51421118, 11650.67586841,\n",
       "       11584.01737752, 11525.39169966, 11473.79931961, 10711.87630471,\n",
       "        9872.38469731,  9128.84579231,  8469.36861964,  7883.96843986,\n",
       "        7363.57030469,  6900.38943194,  6487.88752166,  6120.10609923,\n",
       "        5791.83060656,  5498.47859552,  5236.03333492,  5000.96214751])"
      ]
     },
     "execution_count": 74,
     "metadata": {},
     "output_type": "execute_result"
    }
   ],
   "source": [
    "clf.mse_path_.mean(1)"
   ]
  },
  {
   "cell_type": "code",
   "execution_count": null,
   "id": "ef347d65",
   "metadata": {},
   "outputs": [],
   "source": [
    "Computing the mean of the mean squared errors (MSEs) across all folds for \n",
    "each value of the regularization parameter in a cross-validated Ridge regression model."
   ]
  },
  {
   "cell_type": "code",
   "execution_count": 75,
   "id": "c0f387b7",
   "metadata": {},
   "outputs": [
    {
     "data": {
      "text/plain": [
       "99"
      ]
     },
     "execution_count": 75,
     "metadata": {},
     "output_type": "execute_result"
    }
   ],
   "source": [
    "clf.mse_path_.mean(1).argmin()"
   ]
  },
  {
   "cell_type": "markdown",
   "id": "9f5f5e85",
   "metadata": {},
   "source": [
    "Finding the minimum mean squared error (MSE) from the array of MSE values. \n",
    "The output of 99 indicates that the alpha value at index 99 resulted in the lowest mean MSE across all values"
   ]
  },
  {
   "cell_type": "code",
   "execution_count": 76,
   "id": "b030c1d0",
   "metadata": {},
   "outputs": [
    {
     "data": {
      "text/plain": [
       "array([328.08906766, 323.23096277, 198.00670377, 210.24408554,\n",
       "       307.34973319, 388.67226673, 334.58500331, 271.47059656,\n",
       "       223.5435436 , 239.5747628 , 298.47632597, 385.55075736,\n",
       "       423.85233164, 260.43537142, 278.11993628, 218.8128115 ,\n",
       "       281.37957252, 277.56267262, 235.70481373, 296.05205992,\n",
       "       275.10640634, 297.85137018, 267.74852307, 200.52765742,\n",
       "       220.25550325, 272.29588314, 252.51723211, 329.28434455,\n",
       "       458.27237733, 325.31637091, 203.22981068, 374.02275496,\n",
       "       210.58315753, 237.90677094, 324.7492408 , 201.61655346,\n",
       "       419.41517864, 504.70783868, 266.82014473, 240.84699343,\n",
       "       253.15836619, 604.98074066, 249.68367269, 188.23832541,\n",
       "       328.26036903, 237.23209965, 313.62325592, 461.67343912,\n",
       "       232.77556695, 253.3312455 , 288.91225554, 256.90952501,\n",
       "       184.4516331 , 213.69965907, 248.9706687 , 258.70081964,\n",
       "       216.52081162, 264.9944484 , 275.55288497, 298.72197391,\n",
       "       261.13700955, 258.49321288, 225.76309148, 442.57823479,\n",
       "       353.28387236, 486.60615795, 306.11898064, 466.33370986,\n",
       "       406.54576189, 239.59533171, 275.28169953, 228.26896557,\n",
       "       656.99011463, 251.54868548, 364.45500325, 228.28319479,\n",
       "       342.43293428, 330.83867054, 258.4268275 , 232.14911219,\n",
       "       190.04208091, 242.30230811, 287.87059027, 288.02302617,\n",
       "       239.67329918, 235.24274553, 204.68083349, 234.90629337])"
      ]
     },
     "execution_count": 76,
     "metadata": {},
     "output_type": "execute_result"
    }
   ],
   "source": [
    "clf.alpha_\n",
    "clf.alphas_[clf.mse_path_.mean(1).argmin()]\n",
    "clf.predict(X)"
   ]
  },
  {
   "cell_type": "code",
   "execution_count": 78,
   "id": "6b100be4",
   "metadata": {},
   "outputs": [
    {
     "data": {
      "text/plain": [
       "293.546034090909"
      ]
     },
     "execution_count": 78,
     "metadata": {},
     "output_type": "execute_result"
    }
   ],
   "source": [
    "clf.predict(X).mean()"
   ]
  },
  {
   "cell_type": "markdown",
   "id": "153b3ced",
   "metadata": {},
   "source": [
    "Finding the average predicted value for the input data X using the trained model clf."
   ]
  },
  {
   "cell_type": "code",
   "execution_count": 79,
   "id": "372d7c73",
   "metadata": {},
   "outputs": [
    {
     "data": {
      "text/plain": [
       "293.5460340909089"
      ]
     },
     "execution_count": 79,
     "metadata": {},
     "output_type": "execute_result"
    }
   ],
   "source": [
    "lm.predict(X).mean()"
   ]
  },
  {
   "cell_type": "code",
   "execution_count": null,
   "id": "5ff6a7a3",
   "metadata": {},
   "outputs": [],
   "source": [
    "Finding the mean of these predicted values across all observations."
   ]
  },
  {
   "cell_type": "code",
   "execution_count": 80,
   "id": "607e2f2f",
   "metadata": {},
   "outputs": [
    {
     "data": {
      "text/plain": [
       "7968.019601057268"
      ]
     },
     "execution_count": 80,
     "metadata": {},
     "output_type": "execute_result"
    }
   ],
   "source": [
    "clf.predict(X).var()"
   ]
  },
  {
   "cell_type": "code",
   "execution_count": 81,
   "id": "401b3dcc",
   "metadata": {},
   "outputs": [
    {
     "data": {
      "text/plain": [
       "10282.185880371799"
      ]
     },
     "execution_count": 81,
     "metadata": {},
     "output_type": "execute_result"
    }
   ],
   "source": [
    "lm.predict(X).var()"
   ]
  },
  {
   "cell_type": "code",
   "execution_count": 82,
   "id": "d433b356",
   "metadata": {},
   "outputs": [
    {
     "data": {
      "text/plain": [
       "[<matplotlib.lines.Line2D at 0x209af49ddf0>]"
      ]
     },
     "execution_count": 82,
     "metadata": {},
     "output_type": "execute_result"
    },
    {
     "data": {
      "image/png": "[encoded data removed]",
      "text/plain": [
       "<Figure size 640x480 with 1 Axes>"
      ]
     },
     "metadata": {},
     "output_type": "display_data"
    }
   ],
   "source": [
    "plt.plot(clf.alphas_,clf.mse_path_.mean(1))"
   ]
  },
  {
   "cell_type": "code",
   "execution_count": 83,
   "id": "67c6cc65",
   "metadata": {},
   "outputs": [
    {
     "name": "stderr",
     "output_type": "stream",
     "text": [
      "C:\\Users\\abbie\\anaconda3\\lib\\site-packages\\sklearn\\linear_model\\_coordinate_descent.py:647: ConvergenceWarning: Objective did not converge. You might want to increase the number of iterations, check the scale of the features or consider increasing regularisation. Duality gap: 4.316e+03, tolerance: 9.179e+01\n",
      "  model = cd_fast.enet_coordinate_descent(\n"
     ]
    },
    {
     "data": {
      "text/plain": [
       "LassoCV(alphas=array([1.00000000e-05, 6.02010050e-05, 1.10402010e-04, 1.60603015e-04,\n",
       "       2.10804020e-04, 2.61005025e-04, 3.11206030e-04, 3.61407035e-04,\n",
       "       4.11608040e-04, 4.61809045e-04, 5.12010050e-04, 5.62211055e-04,\n",
       "       6.12412060e-04, 6.62613065e-04, 7.12814070e-04, 7.63015075e-04,\n",
       "       8.13216080e-04, 8.63417085e-04, 9.13618090e-04, 9.63819095e-04,\n",
       "       1.01402010e-03, 1.06422111e-0...\n",
       "       8.84537688e-03, 8.89557789e-03, 8.94577889e-03, 8.99597990e-03,\n",
       "       9.04618090e-03, 9.09638191e-03, 9.14658291e-03, 9.19678392e-03,\n",
       "       9.24698492e-03, 9.29718593e-03, 9.34738693e-03, 9.39758794e-03,\n",
       "       9.44778894e-03, 9.49798995e-03, 9.54819095e-03, 9.59839196e-03,\n",
       "       9.64859296e-03, 9.69879397e-03, 9.74899497e-03, 9.79919598e-03,\n",
       "       9.84939698e-03, 9.89959799e-03, 9.94979899e-03, 1.00000000e-02]))"
      ]
     },
     "execution_count": 83,
     "metadata": {},
     "output_type": "execute_result"
    }
   ],
   "source": [
    "clf = linear_model.LassoCV(alphas=np.linspace(0.00001,0.01,200))\n",
    "clf.fit(X,y)"
   ]
  },
  {
   "cell_type": "code",
   "execution_count": 84,
   "id": "c2d2d1fb",
   "metadata": {},
   "outputs": [
    {
     "data": {
      "text/plain": [
       "[<matplotlib.lines.Line2D at 0x209af551100>]"
      ]
     },
     "execution_count": 84,
     "metadata": {},
     "output_type": "execute_result"
    },
    {
     "data": {
      "image/png": "[encoded data removed]",
      "text/plain": [
       "<Figure size 640x480 with 1 Axes>"
      ]
     },
     "metadata": {},
     "output_type": "display_data"
    }
   ],
   "source": [
    "plt.plot(clf.alphas_,clf.mse_path_.mean(1))"
   ]
  },
  {
   "cell_type": "code",
   "execution_count": 85,
   "id": "d76920d0",
   "metadata": {},
   "outputs": [
    {
     "data": {
      "text/plain": [
       "1e-05"
      ]
     },
     "execution_count": 85,
     "metadata": {},
     "output_type": "execute_result"
    }
   ],
   "source": [
    "clf.alpha_"
   ]
  },
  {
   "cell_type": "code",
   "execution_count": 86,
   "id": "66bd690d",
   "metadata": {},
   "outputs": [
    {
     "data": {
      "text/plain": [
       "array([ 0.00000000e+00,  1.23303625e+00,  2.65210266e+00,  3.45338172e-05,\n",
       "        8.14474351e-03, -4.10103573e-01,  2.76093485e+02, -3.96815636e+02,\n",
       "        1.75462310e+00, -3.95008264e+00])"
      ]
     },
     "execution_count": 86,
     "metadata": {},
     "output_type": "execute_result"
    }
   ],
   "source": [
    "clf.coef_"
   ]
  },
  {
   "cell_type": "markdown",
   "id": "2eaa51fa",
   "metadata": {},
   "source": [
    "lm.coef_"
   ]
  },
  {
   "cell_type": "code",
   "execution_count": 89,
   "id": "237e3a5e",
   "metadata": {},
   "outputs": [
    {
     "data": {
      "text/plain": [
       "Ridge()"
      ]
     },
     "execution_count": 89,
     "metadata": {},
     "output_type": "execute_result"
    }
   ],
   "source": [
    "clf = Ridge(alpha=1.0)\n",
    "clf.fit(X,y)"
   ]
  },
  {
   "cell_type": "markdown",
   "id": "027343e4",
   "metadata": {},
   "source": [
    "Ridge Regression"
   ]
  },
  {
   "cell_type": "code",
   "execution_count": 91,
   "id": "b2f368b4",
   "metadata": {},
   "outputs": [
    {
     "data": {
      "text/plain": [
       "array([ 0.00000000e+00,  6.47998526e-01,  7.42184081e+00,  5.81175153e-04,\n",
       "        9.80882362e-03,  3.77264669e-01,  1.62538772e+02, -4.63797186e+01,\n",
       "       -7.41719334e+00, -3.30009033e+01])"
      ]
     },
     "execution_count": 91,
     "metadata": {},
     "output_type": "execute_result"
    }
   ],
   "source": [
    "clf.coef_"
   ]
  },
  {
   "cell_type": "code",
   "execution_count": 92,
   "id": "2e33b787",
   "metadata": {},
   "outputs": [
    {
     "data": {
      "text/plain": [
       "-297.24614382405525"
      ]
     },
     "execution_count": 92,
     "metadata": {},
     "output_type": "execute_result"
    }
   ],
   "source": [
    "clf.intercept_"
   ]
  },
  {
   "cell_type": "code",
   "execution_count": 93,
   "id": "678bf8ee",
   "metadata": {},
   "outputs": [
    {
     "data": {
      "text/plain": [
       "array([ 0.00000000e+00,  1.23304328e+00,  2.65206573e+00,  3.45239232e-05,\n",
       "        8.14632004e-03, -4.10046110e-01,  2.76094173e+02, -3.96819396e+02,\n",
       "        1.75482492e+00, -3.95321970e+00])"
      ]
     },
     "execution_count": 93,
     "metadata": {},
     "output_type": "execute_result"
    }
   ],
   "source": [
    "lm.coef_"
   ]
  },
  {
   "cell_type": "code",
   "execution_count": 94,
   "id": "45e92e53",
   "metadata": {},
   "outputs": [
    {
     "data": {
      "text/plain": [
       "606.3668534382883"
      ]
     },
     "execution_count": 94,
     "metadata": {},
     "output_type": "execute_result"
    }
   ],
   "source": [
    "lm.intercept_"
   ]
  },
  {
   "cell_type": "code",
   "execution_count": 95,
   "id": "48b43e13",
   "metadata": {},
   "outputs": [
    {
     "data": {
      "text/plain": [
       "array([319.97294845, 348.26247731, 184.70675215, 194.23434526,\n",
       "       339.85266007, 431.4971009 , 339.59261464, 300.10849179,\n",
       "       200.11190227, 236.81645838, 294.29642571, 361.74971575,\n",
       "       403.12643728, 223.6152896 , 261.75747149, 224.99565091,\n",
       "       262.78964494, 285.6385433 , 262.09799778, 315.89207378,\n",
       "       267.7767175 , 280.653673  , 241.88598767, 144.53631543,\n",
       "       233.80952301, 273.06346836, 230.78811322, 340.41068438,\n",
       "       484.26716424, 348.79280158, 220.59365283, 353.70395697,\n",
       "       228.81528678, 235.69670985, 353.68419673, 187.12793991,\n",
       "       402.11113425, 521.72783808, 234.38032089, 224.43459896,\n",
       "       249.94344378, 637.46035458, 255.85638497, 215.68450156,\n",
       "       366.49693058, 247.8662668 , 315.77704714, 438.6047792 ,\n",
       "       245.8671115 , 297.9387178 , 276.02537912, 249.33277079,\n",
       "       191.99444344, 171.65970969, 246.24368853, 261.17119172,\n",
       "       208.98618501, 267.40651375, 283.85828427, 311.29703898,\n",
       "       241.52282939, 274.43470439, 301.95910931, 469.97209021,\n",
       "       355.83996404, 504.6525234 , 303.80903226, 445.94359829,\n",
       "       376.83358155, 225.3843437 , 236.60149572, 234.35460134,\n",
       "       671.57153676, 239.21558245, 329.06345117, 328.43558202,\n",
       "       337.14693278, 333.59882584, 254.20214921, 225.33009231,\n",
       "        96.54632706, 250.49825305, 265.78652955, 297.63485788,\n",
       "       233.53476077, 209.16259719, 208.04477226, 242.12504747])"
      ]
     },
     "execution_count": 95,
     "metadata": {},
     "output_type": "execute_result"
    }
   ],
   "source": [
    "clf.predict(X)\n"
   ]
  },
  {
   "cell_type": "code",
   "execution_count": 96,
   "id": "bafcc5f7",
   "metadata": {},
   "outputs": [
    {
     "data": {
      "text/plain": [
       "293.546034090909"
      ]
     },
     "execution_count": 96,
     "metadata": {},
     "output_type": "execute_result"
    }
   ],
   "source": [
    "clf.predict(X).mean()"
   ]
  },
  {
   "cell_type": "code",
   "execution_count": 97,
   "id": "f0cc2491",
   "metadata": {},
   "outputs": [
    {
     "data": {
      "text/plain": [
       "293.5460340909089"
      ]
     },
     "execution_count": 97,
     "metadata": {},
     "output_type": "execute_result"
    }
   ],
   "source": [
    "lm.predict(X).mean()\n"
   ]
  },
  {
   "cell_type": "code",
   "execution_count": 98,
   "id": "ca192904",
   "metadata": {},
   "outputs": [
    {
     "data": {
      "text/plain": [
       "9223.233577859906"
      ]
     },
     "execution_count": 98,
     "metadata": {},
     "output_type": "execute_result"
    }
   ],
   "source": [
    "clf.predict(X).var()"
   ]
  },
  {
   "cell_type": "code",
   "execution_count": 99,
   "id": "c3e95f53",
   "metadata": {},
   "outputs": [
    {
     "data": {
      "text/plain": [
       "10282.185880371799"
      ]
     },
     "execution_count": 99,
     "metadata": {},
     "output_type": "execute_result"
    }
   ],
   "source": [
    "lm.predict(X).var()"
   ]
  },
  {
   "cell_type": "code",
   "execution_count": 100,
   "id": "9aa71bfd",
   "metadata": {},
   "outputs": [
    {
     "data": {
      "text/plain": [
       "RidgeCV(alphas=array([1.00000000e-01, 6.00400400e-01, 1.10080080e+00, 1.60120120e+00,\n",
       "       2.10160160e+00, 2.60200200e+00, 3.10240240e+00, 3.60280280e+00,\n",
       "       4.10320320e+00, 4.60360360e+00, 5.10400400e+00, 5.60440440e+00,\n",
       "       6.10480480e+00, 6.60520521e+00, 7.10560561e+00, 7.60600601e+00,\n",
       "       8.10640641e+00, 8.60680681e+00, 9.10720721e+00, 9.60760761e+00,\n",
       "       1.01080080e+01, 1.06084084e+0...\n",
       "       4.88490791e+02, 4.88991191e+02, 4.89491592e+02, 4.89991992e+02,\n",
       "       4.90492392e+02, 4.90992793e+02, 4.91493193e+02, 4.91993594e+02,\n",
       "       4.92493994e+02, 4.92994394e+02, 4.93494795e+02, 4.93995195e+02,\n",
       "       4.94495596e+02, 4.94995996e+02, 4.95496396e+02, 4.95996797e+02,\n",
       "       4.96497197e+02, 4.96997598e+02, 4.97497998e+02, 4.97998398e+02,\n",
       "       4.98498799e+02, 4.98999199e+02, 4.99499600e+02, 5.00000000e+02]),\n",
       "        store_cv_values=True)"
      ]
     },
     "execution_count": 100,
     "metadata": {},
     "output_type": "execute_result"
    }
   ],
   "source": [
    "clf = linear_model.RidgeCV(alphas=np.linspace(0.1,500,1000),store_cv_values=True,cv=None)\n",
    "clf.fit(X,y)"
   ]
  },
  {
   "cell_type": "code",
   "execution_count": 101,
   "id": "8a4ca048",
   "metadata": {},
   "outputs": [
    {
     "data": {
      "text/plain": [
       "array([ 0.00000000e+00,  8.70182480e-01,  4.57359080e+00,  2.66944990e-04,\n",
       "        3.14329773e-02, -6.16599144e-01,  2.48156490e+02, -2.22083256e+02,\n",
       "       -3.47825815e+00, -7.06904435e+01])"
      ]
     },
     "execution_count": 101,
     "metadata": {},
     "output_type": "execute_result"
    }
   ],
   "source": [
    "clf.coef_"
   ]
  },
  {
   "cell_type": "code",
   "execution_count": 102,
   "id": "7ec8b436",
   "metadata": {},
   "outputs": [
    {
     "data": {
      "text/plain": [
       "375.4474156812802"
      ]
     },
     "execution_count": 102,
     "metadata": {},
     "output_type": "execute_result"
    }
   ],
   "source": [
    "clf.intercept_"
   ]
  },
  {
   "cell_type": "code",
   "execution_count": 103,
   "id": "f8d12a87",
   "metadata": {},
   "outputs": [
    {
     "data": {
      "text/plain": [
       "0.1"
      ]
     },
     "execution_count": 103,
     "metadata": {},
     "output_type": "execute_result"
    }
   ],
   "source": [
    "clf.alpha_"
   ]
  },
  {
   "cell_type": "code",
   "execution_count": 104,
   "id": "3db7be6a",
   "metadata": {},
   "outputs": [
    {
     "data": {
      "text/plain": [
       "array([ 0.00000000e+00,  1.23304328e+00,  2.65206573e+00,  3.45239232e-05,\n",
       "        8.14632004e-03, -4.10046110e-01,  2.76094173e+02, -3.96819396e+02,\n",
       "        1.75482492e+00, -3.95321970e+00])"
      ]
     },
     "execution_count": 104,
     "metadata": {},
     "output_type": "execute_result"
    }
   ],
   "source": [
    "lm.coef_"
   ]
  },
  {
   "cell_type": "code",
   "execution_count": 105,
   "id": "e2c9d371",
   "metadata": {},
   "outputs": [
    {
     "data": {
      "text/plain": [
       "606.3668534382883"
      ]
     },
     "execution_count": 105,
     "metadata": {},
     "output_type": "execute_result"
    }
   ],
   "source": [
    "lm.intercept_"
   ]
  },
  {
   "cell_type": "code",
   "execution_count": 106,
   "id": "89e2a908",
   "metadata": {},
   "outputs": [
    {
     "data": {
      "text/plain": [
       "array([308.58681525, 355.9449682 , 190.53550078, 192.27866741,\n",
       "       356.71223691, 442.17314359, 333.65915227, 309.04537097,\n",
       "       201.57518832, 239.64831752, 288.7014036 , 333.06020865,\n",
       "       409.7079326 , 207.89666286, 262.41912037, 231.50344017,\n",
       "       245.5712425 , 284.33226359, 271.32175427, 312.4383908 ,\n",
       "       264.67372609, 271.14794138, 225.15745037, 131.70400807,\n",
       "       249.30483066, 273.79368011, 227.18833533, 339.28098496,\n",
       "       487.72151527, 347.72920625, 237.44889511, 347.12046671,\n",
       "       252.58240567, 236.89971881, 355.34710219, 190.75044291,\n",
       "       386.72001998, 545.74701565, 209.51520518, 222.44751843,\n",
       "       246.14774352, 661.40651143, 252.27158893, 242.43749319,\n",
       "       369.33784014, 262.4061734 , 316.22092625, 442.7278846 ,\n",
       "       253.99747977, 312.30816146, 265.46968816, 253.03401056,\n",
       "       216.5626046 , 168.58037321, 248.50665178, 254.09914805,\n",
       "       210.59132873, 261.53604414, 286.10866297, 315.20266079,\n",
       "       226.6274616 , 271.02703627, 320.86656497, 469.14246069,\n",
       "       344.63332893, 503.70080259, 288.35153565, 425.06369795,\n",
       "       356.02107919, 218.57843767, 214.53984281, 240.8897278 ,\n",
       "       699.07341284, 229.48984141, 314.96928619, 383.96658215,\n",
       "       329.3755291 , 329.53011536, 248.53925032, 229.46664655,\n",
       "        60.31749196, 264.66075464, 248.72907479, 294.69195297,\n",
       "       235.21947545, 198.68941304, 222.35301923, 245.19195245])"
      ]
     },
     "execution_count": 106,
     "metadata": {},
     "output_type": "execute_result"
    }
   ],
   "source": [
    "clf.predict(X)"
   ]
  },
  {
   "cell_type": "code",
   "execution_count": 107,
   "id": "c97ff519",
   "metadata": {},
   "outputs": [
    {
     "data": {
      "text/plain": [
       "293.5460340909089"
      ]
     },
     "execution_count": 107,
     "metadata": {},
     "output_type": "execute_result"
    }
   ],
   "source": [
    "lm.predict(X).mean()"
   ]
  },
  {
   "cell_type": "code",
   "execution_count": 110,
   "id": "03751bd1",
   "metadata": {},
   "outputs": [
    {
     "data": {
      "text/plain": [
       "293.5460340909089"
      ]
     },
     "execution_count": 110,
     "metadata": {},
     "output_type": "execute_result"
    }
   ],
   "source": [
    "lm.predict(X).mean()"
   ]
  },
  {
   "cell_type": "code",
   "execution_count": 108,
   "id": "a43fd4fd",
   "metadata": {},
   "outputs": [
    {
     "data": {
      "text/plain": [
       "9972.1523723224"
      ]
     },
     "execution_count": 108,
     "metadata": {},
     "output_type": "execute_result"
    }
   ],
   "source": [
    "clf.predict(X).var()"
   ]
  },
  {
   "cell_type": "code",
   "execution_count": 111,
   "id": "1ea9a3bb",
   "metadata": {},
   "outputs": [
    {
     "data": {
      "text/plain": [
       "10282.185880371799"
      ]
     },
     "execution_count": 111,
     "metadata": {},
     "output_type": "execute_result"
    }
   ],
   "source": [
    "lm.predict(X).var()"
   ]
  },
  {
   "cell_type": "code",
   "execution_count": 109,
   "id": "54acde81",
   "metadata": {},
   "outputs": [
    {
     "data": {
      "text/plain": [
       "[<matplotlib.lines.Line2D at 0x209adfd8070>]"
      ]
     },
     "execution_count": 109,
     "metadata": {},
     "output_type": "execute_result"
    },
    {
     "data": {
      "image/png": "[encoded data removed]",
      "text/plain": [
       "<Figure size 640x480 with 1 Axes>"
      ]
     },
     "metadata": {},
     "output_type": "display_data"
    }
   ],
   "source": [
    "plt.plot(np.linspace(0.1,500,1000),clf.cv_values_.mean(0))"
   ]
  },
  {
   "cell_type": "markdown",
   "id": "1464610d",
   "metadata": {},
   "source": [
    "Elastic Regression\n"
   ]
  },
  {
   "cell_type": "code",
   "execution_count": 112,
   "id": "f50a5ac7",
   "metadata": {},
   "outputs": [
    {
     "data": {
      "text/plain": [
       "ElasticNet(alpha=0.1)"
      ]
     },
     "execution_count": 112,
     "metadata": {},
     "output_type": "execute_result"
    }
   ],
   "source": [
    "clf = linear_model.ElasticNet(alpha=0.1,l1_ratio=0.5)\n",
    "clf.fit(X, y)"
   ]
  },
  {
   "cell_type": "code",
   "execution_count": 113,
   "id": "82d30000",
   "metadata": {},
   "outputs": [
    {
     "data": {
      "text/plain": [
       "array([ 0.00000000e+00,  7.70569002e-01,  8.05864987e+00,  6.98020127e-04,\n",
       "        1.46168853e-03,  4.14913004e+00,  7.32092678e+01, -8.98751856e+00,\n",
       "       -6.25899970e+00, -9.07292457e+00])"
      ]
     },
     "execution_count": 113,
     "metadata": {},
     "output_type": "execute_result"
    }
   ],
   "source": [
    "clf.coef_"
   ]
  },
  {
   "cell_type": "code",
   "execution_count": 114,
   "id": "e90f50fd",
   "metadata": {},
   "outputs": [
    {
     "data": {
      "text/plain": [
       "array([ 0.00000000e+00,  1.23304328e+00,  2.65206573e+00,  3.45239232e-05,\n",
       "        8.14632004e-03, -4.10046110e-01,  2.76094173e+02, -3.96819396e+02,\n",
       "        1.75482492e+00, -3.95321970e+00])"
      ]
     },
     "execution_count": 114,
     "metadata": {},
     "output_type": "execute_result"
    }
   ],
   "source": [
    "lm.coef_"
   ]
  },
  {
   "cell_type": "code",
   "execution_count": 119,
   "id": "3218bfda",
   "metadata": {},
   "outputs": [
    {
     "data": {
      "text/plain": [
       "-227.1885428652041"
      ]
     },
     "execution_count": 119,
     "metadata": {},
     "output_type": "execute_result"
    }
   ],
   "source": [
    "clf.intercept_"
   ]
  },
  {
   "cell_type": "code",
   "execution_count": 120,
   "id": "26076684",
   "metadata": {},
   "outputs": [
    {
     "data": {
      "text/plain": [
       "606.3668534382883"
      ]
     },
     "execution_count": 120,
     "metadata": {},
     "output_type": "execute_result"
    }
   ],
   "source": [
    "lm.intercept_"
   ]
  },
  {
   "cell_type": "code",
   "execution_count": 121,
   "id": "d04b7220",
   "metadata": {},
   "outputs": [
    {
     "data": {
      "text/plain": [
       "ElasticNetCV(alphas=array([0.0001    , 0.00011984, 0.00013968, 0.00015952, 0.00017936,\n",
       "       0.0001992 , 0.00021904, 0.00023888, 0.00025872, 0.00027856,\n",
       "       0.0002984 , 0.00031824, 0.00033808, 0.00035792, 0.00037776,\n",
       "       0.0003976 , 0.00041743, 0.00043727, 0.00045711, 0.00047695,\n",
       "       0.00049679, 0.00051663, 0.00053647, 0.00055631, 0.00057615,\n",
       "       0.00059599, 0.00061583, 0.00063567, 0.00065551, 0.00067535,...\n",
       "       0.00932545, 0.00934529, 0.00936513, 0.00938497, 0.00940481,\n",
       "       0.00942465, 0.00944449, 0.00946433, 0.00948417, 0.00950401,\n",
       "       0.00952385, 0.00954369, 0.00956353, 0.00958337, 0.00960321,\n",
       "       0.00962305, 0.00964289, 0.00966273, 0.00968257, 0.0097024 ,\n",
       "       0.00972224, 0.00974208, 0.00976192, 0.00978176, 0.0098016 ,\n",
       "       0.00982144, 0.00984128, 0.00986112, 0.00988096, 0.0099008 ,\n",
       "       0.00992064, 0.00994048, 0.00996032, 0.00998016, 0.01      ]))"
      ]
     },
     "execution_count": 121,
     "metadata": {},
     "output_type": "execute_result"
    }
   ],
   "source": [
    "clf = linear_model.ElasticNetCV(alphas=np.linspace(0.0001,0.01,500))\n",
    "clf.fit(X, y)"
   ]
  },
  {
   "cell_type": "code",
   "execution_count": 122,
   "id": "b3cd6ad2",
   "metadata": {},
   "outputs": [
    {
     "data": {
      "text/plain": [
       "array([ 0.00000000e+00,  1.20031272e+00,  2.79021098e+00,  5.53723869e-05,\n",
       "        1.17918414e-02, -3.57096257e-01,  2.74049979e+02, -3.81507377e+02,\n",
       "        1.23048578e+00, -1.34107661e+01])"
      ]
     },
     "execution_count": 122,
     "metadata": {},
     "output_type": "execute_result"
    }
   ],
   "source": [
    "clf.coef_"
   ]
  },
  {
   "cell_type": "code",
   "execution_count": 123,
   "id": "5a84fb0a",
   "metadata": {},
   "outputs": [
    {
     "data": {
      "text/plain": [
       "array([ 0.00000000e+00,  1.23304328e+00,  2.65206573e+00,  3.45239232e-05,\n",
       "        8.14632004e-03, -4.10046110e-01,  2.76094173e+02, -3.96819396e+02,\n",
       "        1.75482492e+00, -3.95321970e+00])"
      ]
     },
     "execution_count": 123,
     "metadata": {},
     "output_type": "execute_result"
    }
   ],
   "source": [
    "lm.coef_"
   ]
  },
  {
   "cell_type": "code",
   "execution_count": 124,
   "id": "68a19a9d",
   "metadata": {},
   "outputs": [
    {
     "data": {
      "text/plain": [
       "608.8913238120202"
      ]
     },
     "execution_count": 124,
     "metadata": {},
     "output_type": "execute_result"
    }
   ],
   "source": [
    "clf.intercept_"
   ]
  },
  {
   "cell_type": "code",
   "execution_count": 125,
   "id": "f441735f",
   "metadata": {},
   "outputs": [
    {
     "data": {
      "text/plain": [
       "0.0001"
      ]
     },
     "execution_count": 125,
     "metadata": {},
     "output_type": "execute_result"
    }
   ],
   "source": [
    "clf.alpha_"
   ]
  },
  {
   "cell_type": "code",
   "execution_count": 126,
   "id": "00d4c175",
   "metadata": {},
   "outputs": [
    {
     "data": {
      "text/plain": [
       "[<matplotlib.lines.Line2D at 0x209acb563d0>]"
      ]
     },
     "execution_count": 126,
     "metadata": {},
     "output_type": "execute_result"
    },
    {
     "data": {
      "image/png": "[encoded data removed]",
      "text/plain": [
       "<Figure size 640x480 with 1 Axes>"
      ]
     },
     "metadata": {},
     "output_type": "display_data"
    }
   ],
   "source": [
    "plt.plot(clf.alphas_,clf.mse_path_.mean(1))"
   ]
  },
  {
   "cell_type": "code",
   "execution_count": 127,
   "id": "f30291c9",
   "metadata": {},
   "outputs": [
    {
     "data": {
      "text/plain": [
       "Lars(n_nonzero_coefs=3, normalize=False)"
      ]
     },
     "execution_count": 127,
     "metadata": {},
     "output_type": "execute_result"
    }
   ],
   "source": [
    "from sklearn.preprocessing import scale \n",
    "\n",
    "clf = linear_model.Lars(n_nonzero_coefs=3,normalize=False)\n",
    "clf.fit(scale(X), y)"
   ]
  },
  {
   "cell_type": "code",
   "execution_count": 128,
   "id": "df703fe9",
   "metadata": {},
   "outputs": [
    {
     "data": {
      "text/plain": [
       "array([ 0.        , 24.63476929,  2.96596345,  0.        ,  0.        ,\n",
       "        0.        , 72.51564894,  0.        ,  0.        ,  0.        ])"
      ]
     },
     "execution_count": 128,
     "metadata": {},
     "output_type": "execute_result"
    }
   ],
   "source": [
    "clf.coef_"
   ]
  },
  {
   "cell_type": "code",
   "execution_count": 129,
   "id": "1e4e480b",
   "metadata": {},
   "outputs": [
    {
     "data": {
      "text/plain": [
       "293.5460340909092"
      ]
     },
     "execution_count": 129,
     "metadata": {},
     "output_type": "execute_result"
    }
   ],
   "source": [
    "clf.intercept_"
   ]
  },
  {
   "cell_type": "code",
   "execution_count": 130,
   "id": "f669eb78",
   "metadata": {},
   "outputs": [
    {
     "data": {
      "text/plain": [
       "LinearRegression()"
      ]
     },
     "execution_count": 130,
     "metadata": {},
     "output_type": "execute_result"
    }
   ],
   "source": [
    "lm.fit(scale(X),y)"
   ]
  },
  {
   "cell_type": "code",
   "execution_count": 131,
   "id": "7a7f5977",
   "metadata": {},
   "outputs": [
    {
     "data": {
      "text/plain": [
       "array([   0.        ,  116.85715206,    2.21871365,    0.34925014,\n",
       "          4.67519519,   -0.18910231,   83.33705802, -103.41889655,\n",
       "          0.94929027,   -1.01682467])"
      ]
     },
     "execution_count": 131,
     "metadata": {},
     "output_type": "execute_result"
    }
   ],
   "source": [
    "lm.coef_"
   ]
  },
  {
   "cell_type": "code",
   "execution_count": 132,
   "id": "59c5fa9a",
   "metadata": {},
   "outputs": [
    {
     "data": {
      "text/plain": [
       "293.54603409090913"
      ]
     },
     "execution_count": 132,
     "metadata": {},
     "output_type": "execute_result"
    }
   ],
   "source": [
    "lm.intercept_"
   ]
  },
  {
   "cell_type": "code",
   "execution_count": 133,
   "id": "4f3f3bdb",
   "metadata": {},
   "outputs": [
    {
     "data": {
      "text/plain": [
       "LarsCV(normalize=False)"
      ]
     },
     "execution_count": 133,
     "metadata": {},
     "output_type": "execute_result"
    }
   ],
   "source": [
    "clf = linear_model.LarsCV(normalize=False)\n",
    "clf.fit(scale(X), y)"
   ]
  },
  {
   "cell_type": "code",
   "execution_count": 134,
   "id": "205614cb",
   "metadata": {},
   "outputs": [
    {
     "data": {
      "text/plain": [
       "array([ 0.        , 24.72294036,  3.31460786,  0.38836728,  0.        ,\n",
       "        0.        , 72.66464177,  0.        ,  0.        ,  0.        ])"
      ]
     },
     "execution_count": 134,
     "metadata": {},
     "output_type": "execute_result"
    }
   ],
   "source": [
    "clf.coef_"
   ]
  },
  {
   "cell_type": "code",
   "execution_count": 135,
   "id": "b6bcef5a",
   "metadata": {},
   "outputs": [
    {
     "data": {
      "text/plain": [
       "array([   0.        ,  116.85715206,    2.21871365,    0.34925014,\n",
       "          4.67519519,   -0.18910231,   83.33705802, -103.41889655,\n",
       "          0.94929027,   -1.01682467])"
      ]
     },
     "execution_count": 135,
     "metadata": {},
     "output_type": "execute_result"
    }
   ],
   "source": [
    "lm.coef_"
   ]
  },
  {
   "cell_type": "code",
   "execution_count": 136,
   "id": "3dc3d020",
   "metadata": {},
   "outputs": [
    {
     "data": {
      "text/plain": [
       "0.9528766013807646"
      ]
     },
     "execution_count": 136,
     "metadata": {},
     "output_type": "execute_result"
    }
   ],
   "source": [
    "clf.score(scale(X),y)"
   ]
  },
  {
   "cell_type": "code",
   "execution_count": null,
   "id": "3f97cc0c",
   "metadata": {},
   "outputs": [],
   "source": [
    "The R-squared value is 0.9529, which indicates that the model explains a high proportion of the variance in the target variable"
   ]
  },
  {
   "cell_type": "code",
   "execution_count": 137,
   "id": "b9995d59",
   "metadata": {},
   "outputs": [
    {
     "data": {
      "text/plain": [
       "0.9858124019908473"
      ]
     },
     "execution_count": 137,
     "metadata": {},
     "output_type": "execute_result"
    }
   ],
   "source": [
    "lm.score(scale(X),y)"
   ]
  },
  {
   "cell_type": "markdown",
   "id": "17fd0121",
   "metadata": {},
   "source": [
    "The output indicates that the model explains 98.58% of the variance in the target variable y. \n",
    "This is a high R-squared value, suggesting that the model fits the data well. "
   ]
  },
  {
   "cell_type": "markdown",
   "id": "f95f6cb9",
   "metadata": {},
   "source": [
    "# PCA"
   ]
  },
  {
   "cell_type": "code",
   "execution_count": 140,
   "id": "e3836d46",
   "metadata": {},
   "outputs": [
    {
     "data": {
      "text/plain": [
       "Text(0.5, 1.0, 'hp')"
      ]
     },
     "execution_count": 140,
     "metadata": {},
     "output_type": "execute_result"
    },
    {
     "data": {
      "image/png": "[encoded data removed]",
      "text/plain": [
       "<Figure size 640x480 with 1 Axes>"
      ]
     },
     "metadata": {},
     "output_type": "display_data"
    }
   ],
   "source": [
    "#scale predictor variables\n",
    "pca = PCA()\n",
    "X_reduced = pca.fit_transform(scale(X))\n",
    "\n",
    "#define cross validation method\n",
    "cv = RepeatedKFold(n_splits=10, n_repeats=3, random_state=1)\n",
    "\n",
    "regr = linear_model.LinearRegression()\n",
    "mse = []\n",
    "\n",
    "# Calculate MSE with only the intercept\n",
    "score = -1*model_selection.cross_val_score(regr,\n",
    "           np.ones((len(X_reduced),1)), y, cv=cv,\n",
    "           scoring='neg_mean_squared_error').mean()    \n",
    "mse.append(score)\n",
    "\n",
    "# Calculate MSE using cross-validation, adding one component at a time\n",
    "for i in np.arange(1, 8):\n",
    "    score = -1*model_selection.cross_val_score(regr,\n",
    "               X_reduced[:,:i], y, cv=cv, scoring='neg_mean_squared_error').mean()\n",
    "    mse.append(score)\n",
    "    \n",
    "# Plot cross-validation results    \n",
    "plt.plot(mse)\n",
    "plt.xlabel('Number of Principal Components')\n",
    "plt.ylabel('MSE')\n",
    "plt.title('hp')"
   ]
  },
  {
   "cell_type": "markdown",
   "id": "8dde1d81",
   "metadata": {},
   "source": [
    "Calculating the cumulative sum of the explained variance ratios for each principal component obtained through \n",
    "Principal Component Analysis (PCA), rounded to 4 decimal places and multiplied by 100."
   ]
  },
  {
   "cell_type": "code",
   "execution_count": 142,
   "id": "5b5ad428",
   "metadata": {},
   "outputs": [
    {
     "data": {
      "text/plain": [
       "array([ 58.02,  74.86,  86.92,  93.34,  96.67,  98.73,  99.7 ,  99.93,\n",
       "       100.  , 100.  ])"
      ]
     },
     "execution_count": 142,
     "metadata": {},
     "output_type": "execute_result"
    }
   ],
   "source": [
    "np.cumsum(np.round(pca.explained_variance_ratio_, decimals=4)*100)"
   ]
  },
  {
   "cell_type": "code",
   "execution_count": 144,
   "id": "5badb5ba",
   "metadata": {},
   "outputs": [
    {
     "data": {
      "text/plain": [
       "64.16782137916583"
      ]
     },
     "execution_count": 144,
     "metadata": {},
     "output_type": "execute_result"
    }
   ],
   "source": [
    "#split the dataset into training (70%) and testing (30%) sets\n",
    "X_train,X_test,y_train,y_test = train_test_split(X,y,test_size=0.3,random_state=0) \n",
    "\n",
    "#scale the training and testing data\n",
    "X_reduced_train = pca.fit_transform(scale(X_train))\n",
    "X_reduced_test = pca.transform(scale(X_test))[:,:4]\n",
    "\n",
    "#train PCR model on training data \n",
    "regr = linear_model.LinearRegression()\n",
    "regr.fit(X_reduced_train[:,:4], y_train)\n",
    "\n",
    "#calculate RMSE\n",
    "pred = regr.predict(X_reduced_test)\n",
    "np.sqrt(mean_squared_error(y_test, pred))"
   ]
  },
  {
   "cell_type": "code",
   "execution_count": null,
   "id": "1ca59e4d",
   "metadata": {},
   "outputs": [],
   "source": []
  }
 ],
 "metadata": {
  "kernelspec": {
   "display_name": "Python 3 (ipykernel)",
   "language": "python",
   "name": "python3"
  },
  "language_info": {
   "codemirror_mode": {
    "name": "ipython",
    "version": 3
   },
   "file_extension": ".py",
   "mimetype": "text/x-python",
   "name": "python",
   "nbconvert_exporter": "python",
   "pygments_lexer": "ipython3",
   "version": "3.9.13"
  }
 },
 "nbformat": 4,
 "nbformat_minor": 5
}
